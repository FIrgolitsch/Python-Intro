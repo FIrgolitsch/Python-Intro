{
 "cells": [
  {
   "metadata": {},
   "cell_type": "markdown",
   "source": [
    "# Chapter 01: Introduction to Python\n",
    "\n",
    "Welcome to the first chapter of these collection of notebooks aimed to get you acquainted with the basics of Python programming. First of all, congratulations in setting up the python enviornment, installing jupyter and opening your first notebook! These chapters will be a mix of theory and practical examples to help you understand the concepts better and help you get started with python, jupyter and neuroimaging basics. There will be some side steps as well into parallel computing (Dask), neural networks (PyTorch) and other topics that are relevant to neuroimaging.\n",
    "\n",
    "This first chapter will be more of a theoretical introduction to Python, and some of its basic concepts. We will cover the following topics:\n",
    "\n",
    "- What is a program?\n",
    "- Types of languages\n",
    "- Why Python? "
   ],
   "id": "8f7d60192db2a3e4"
  },
  {
   "metadata": {},
   "cell_type": "markdown",
   "source": [
    "## What is a program?\n",
    "\n",
    "In the most basic terms, a program is set of instructions that are executed by some form of processing unit (CPU, GPU, TPU etc.). These instructions are writing in a programming langauge (such as Python) and converted to instructions for the processing unit so that the required computations can be performed. Traditionally, programs were written in low level languages such as Assembly (a famous example being Rollercoaster Tycoon), which were very complicated to use as you needed to understand the processor that you were writing for, and you were instructing the processor step by step what to do. With the advent of higher level languages, such as Python, it has become much easier to create programs as the langauge itself will take care of a lot of the complicated stuff such as managing the computer memory and instructing the processor how to perform the computations. This allows programmers to get started more quickly and focus on the problem at hand and less about the underlying hardware. That's not to say these languages have their place however, there are still many uses cases for these low level languages such as in embedded systems or high performance applications."
   ],
   "id": "2f542a0b4dd78a15"
  },
  {
   "metadata": {},
   "cell_type": "markdown",
   "source": [
    "## Programming Languages\n",
    "\n",
    "The end of the previous section already alluded to it, but there are many sorts of applications. A lot of these applications have a specific class of languages that are best suited for them. For example, high performance applications are often written in C and C++ as these languages tend to outperform other languages in terms of raw processing speed. This comes at the expense of being close to the hardware and therefor being more difficult to write in. We also have languages suited for web applications such as Javascript and PHP. Often combined with HTML for the web page structure and CSS for the styling, these languages are used to create the dynamic websites you see today. Business software is often written in C# or Java. These languages are so-called \"Object-Oriented\" languages. This means that for every concept in the software, it is represented as an object with its own properties and methods. This makes it easier to structure the software and related it better to the real world. Finally, we have the languages that have traditionally focused more on statistics and data analysis. The biggest examples of this are Python and R. R being the older of the two, is still used widely but is losing popularity to Python."
   ],
   "id": "6a5801ce64e1dd70"
  },
  {
   "metadata": {},
   "cell_type": "markdown",
   "source": [
    "## Why Python?\n",
    "\n",
    " These days, Python is a general purpose programming language that is very suited to use in a wide range of applications. It is easy to learn, has a lot of libraries available and is very versatile. This makes it a great language to start with if you are new to programming. The syntax is also minimal compared to other languages, especially object oriented ones. The last few years has seen massive growth in Python, with it now being one of the most popular languages in the world, only outperformed by Javascript.\n",
    " \n",
    "On of the reasons Python is so ubiquitous is the support from different communities around the world. If you can think of something you want to do in Python, there's probably a library for it. For example, for dealing with scientific computations and matrix computations, Scipy and Numpy do an excellent job of providing easy to use libraries that are used by everyone around the world. This means that if you are looking for something to assist you in your programming, you can probably find a solution using these libraries by searching around the internet."
   ],
   "id": "ed2d6656506970e8"
  },
  {
   "metadata": {},
   "cell_type": "markdown",
   "source": [
    "## The Basics of Python\n",
    "\n",
    "Python is what is called an \"interpreted\" langauge. This means that when the code is run, it is read line by line from top to bottom by the Python interpreter. This is different from compiled languages such as C or C++ where the code is first compiled into machine code before being run. This tends to make Python slower than these compiled language, but it is easier to get started with it. To structure the code, Python use tab indentation. This means that the code is structured by the amount of tabs you use. This is different from other languages that often use curly braces or other brackets to structure the code. This makes the code leaner to read, but the downside is that you need to be careful with the indentation as it can change the meaning of the code. Before we get started with the first real chapter, I want to show you some basic Python code so that I'm sure you know what is going on. The next cell will contain a basic print statement. This print statement will print the text \"Hello, World!\" below the cell. To run the code, select the cell and press `Shift+Enter`, or press the play button in the toolbar above. I will also place a comment in the cell. Comments are lines of code that will never be executed by the interpreter but are there to explain what the code is doing. In Python, comments start with a `#` symbol."
   ],
   "id": "a824b353d0cdfa41"
  },
  {
   "metadata": {},
   "cell_type": "code",
   "source": [
    "# This is a comment, it will not be executed by the interpreter. A lot of explanation in this material will be in comments so that I can directly explain what is going on as you read the code.\n",
    "# The statement below will print \"Hello, World!\" below the cell.\n",
    "print(\"Hello, World!\")"
   ],
   "id": "caf4ab7b794b4904",
   "outputs": [],
   "execution_count": null
  },
  {
   "metadata": {},
   "cell_type": "markdown",
   "source": "Congratulations! You have just run your first Python code. In the coming chapters you will build a basic foundation of Python programming, and I will introduce you to programming concepts that will aid you in writing your own code and understanding others'. Each chapter will have a couple of exercises at the end to check the material that you have learned in a chapter. Enjoy learning Python!",
   "id": "70efe1db98a2e400"
  },
  {
   "metadata": {},
   "cell_type": "markdown",
   "source": [
    "# Exercises\n",
    "\n",
    "In the code cell below, please write a print statement with any message you want and execute the cell."
   ],
   "id": "bf7e6eeef7e01368"
  },
  {
   "metadata": {},
   "cell_type": "code",
   "source": "",
   "id": "e31eba780ab16b5",
   "outputs": [],
   "execution_count": null
  }
 ],
 "metadata": {
  "kernelspec": {
   "display_name": "Python 3",
   "language": "python",
   "name": "python3"
  },
  "language_info": {
   "codemirror_mode": {
    "name": "ipython",
    "version": 2
   },
   "file_extension": ".py",
   "mimetype": "text/x-python",
   "name": "python",
   "nbconvert_exporter": "python",
   "pygments_lexer": "ipython2",
   "version": "2.7.6"
  }
 },
 "nbformat": 4,
 "nbformat_minor": 5
}
