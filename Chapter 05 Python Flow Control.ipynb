{
 "cells": [
  {
   "metadata": {},
   "cell_type": "markdown",
   "source": [
    "# Chapter 5: Python Flow Control\n",
    "\n",
    "In this chapter we will start learning about several control flow which will help with running code conditionally or to create loops for handling lists. "
   ],
   "id": "8b2ee78b37e4e47d"
  },
  {
   "metadata": {},
   "cell_type": "markdown",
   "source": [
    "## If Statements\n",
    "\n",
    "If statements are used to check for a condition and to run code contained within them conditionally. There are three parts that can be included in the statement, but only the `if` keyword is mandatory. The other two are the `else` condition, which gets executed if the condition does not match, and the `elif` condition which are other possible conditions if the first one is not a match straight away. Conditions are evaluated from top to bottom and once a condition matches, no conditions are further evaluated. Below is a very barebones example of an if statement."
   ],
   "id": "76d6ce22cafd7d92"
  },
  {
   "metadata": {},
   "cell_type": "code",
   "source": [
    "if True:\n",
    "    print(\"This statement will always be printed\")\n",
    "elif True:\n",
    "    print(\"This statement cannot be reached.\")\n",
    "else:\n",
    "    print(\"This statement also cannot be reached.\")"
   ],
   "id": "d713d7101880e145",
   "outputs": [],
   "execution_count": null
  },
  {
   "metadata": {},
   "cell_type": "markdown",
   "source": "In the above example, the condition that is being checked is always true. This means that only the first print statement will ever get executed, even thought the elif statement is also true. This is once again due to the evaluation of other conditions being stopped after it has found a match. If you're using software like Pycharm to open this notebook it might even already give a warning that the bottom two print statements are unreachable.",
   "id": "7b0896fbdd1817b"
  },
  {
   "metadata": {},
   "cell_type": "markdown",
   "source": "The condition for the if statements can be made up of any boolean logic check, or even just to check if a variable is not `None`. We saw this in an earlier chapter too, but let's do a proper demonstration now.",
   "id": "b105223d2a309a8f"
  },
  {
   "metadata": {},
   "cell_type": "code",
   "source": [
    "x = 5\n",
    "y = 2\n",
    "z = None\n",
    "\n",
    "if True:\n",
    "    if True:\n",
    "        print(\"Statements can be nested, although this does not look clean.\")\n",
    "\n",
    "if True and True:\n",
    "    print(r\"It's better to use the operators mentioned in Chapter 3 such as 'and'.\")\n",
    "    \n",
    "if x > y:\n",
    "    print(\"We can compare numbers.\")\n",
    "    \n",
    "if x:\n",
    "    print(\"We can check the presence of a value.\")\n",
    "    \n",
    "if z:\n",
    "    print(\"When the value is None, the if statement will be evaluated as false.\")\n",
    "    \n",
    "if x > y > 1:\n",
    "    print(\"Conditions can be chained too.\")\n",
    "    \n",
    "if (True or z) and (x and y):\n",
    "    print(\"Parentheses can be used to enforce an evaluation order.\") # The execution order does not make a difference here, though."
   ],
   "id": "2ae722eddafb4f02",
   "outputs": [],
   "execution_count": null
  },
  {
   "metadata": {},
   "cell_type": "markdown",
   "source": [
    "## For Loops\n",
    "\n",
    "For the next control structure we will have a look at the for loops. These are used to loop over so called 'iterables'. Iterables are objects that contain multiple items which can be iterated over in a loop structure. We have already seen quite a few of those in the previous chapter as all the collections in Python are also an iterable. This makes processing lists much easier as we can directly use them for loops. Let's look at a couple of loop examples below. We will also introduce the range function which makes it easy to create a sequence of numbers to use for indexing."
   ],
   "id": "c9d3dd26b9f0a3be"
  },
  {
   "metadata": {},
   "cell_type": "code",
   "source": [
    "custom_range = range(0, 5)\n",
    "x = [10,20,30,40,50]\n",
    "\n",
    "print(\"Printing the numbers in the range\")\n",
    "for i in custom_range: # Note that the number 5 will not be printed. Ranges are always exclusive of the final number given.\n",
    "    print(i)\n",
    "print(\"---------------------------------\")\n",
    "\n",
    "print(\"Printing the numbers in the array using the range of the index\")\n",
    "for i in custom_range:\n",
    "    print(x[i])\n",
    "print(\"---------------------------------\")\n",
    "\n",
    "print(\"Using the property that the list is also an iterable to print the values directly\")\n",
    "for i in x:\n",
    "    print(i)"
   ],
   "id": "575f4ba5c06b6643",
   "outputs": [],
   "execution_count": null
  },
  {
   "metadata": {},
   "cell_type": "markdown",
   "source": "Another iterable is the one provided by the dictionaries using the items() function. Instead of giving back one value, they will give a tuple of the key and value pair. Here is a short demonstration:",
   "id": "aa735ada9b6a22b9"
  },
  {
   "metadata": {},
   "cell_type": "code",
   "source": [
    "x = {\"Key 1\": \"Value 1\",  \"Key 2\": \"Value 2\"}\n",
    "key_value_pairs = x.items()\n",
    "\n",
    "for key, value in key_value_pairs:      # You can directly unpack the values to separate variables in the definition of the loop.\n",
    "    print(f\"Key: {key}, Value: {value}\")\n"
   ],
   "id": "9610c05889d8c260",
   "outputs": [],
   "execution_count": null
  },
  {
   "metadata": {},
   "cell_type": "markdown",
   "source": "Another useful function when working with loops is the `enumerate(..)` function. If you create a loop with this function and give your iterable as a parameter, it will return a tuple of the index in the list as well as the item itself. This can be usful in cases where you need both the object in the list and the index of that object. This saves you from calling `list.index(..)` for each object you want to know the index for.",
   "id": "dd31ab1c5d2d8ead"
  },
  {
   "metadata": {},
   "cell_type": "code",
   "source": [
    "x = [\"Value 1\",\"Value 2\",\"Value 3\",\"Value 4\",\"Value 5\"]\n",
    "\n",
    "for idx, i in enumerate(x):\n",
    "    print(f\"Index: {idx}, Value: {i}\")"
   ],
   "id": "41162ea42f1bb917",
   "outputs": [],
   "execution_count": null
  },
  {
   "metadata": {},
   "cell_type": "markdown",
   "source": [
    "## While Loops\n",
    "\n",
    "While loops are loops that wil run until their condition is true. Say we want to keep counting up, we can do this using a while loop which adds one to the number each time until it has reached a specific number that we specified as the condition. After this, it will stop running and leave the loop. Of special note is `while True:`. This is known as an infinite loop. Since the condition always evaluates to true and there is no way to change it, the loop will keep running forever. Let's look at a few examples with while loops."
   ],
   "id": "19e2afde90b77afa"
  },
  {
   "metadata": {},
   "cell_type": "code",
   "source": [
    "x = 0\n",
    "while x < 5: # Equivalent to: for i in range(1,5)\n",
    "    print(x)\n",
    "    x += 1\n",
    "print(\"---------------------------------\")\n",
    "    \n",
    "new_set = {1,2,3,4,5}\n",
    "while new_set: # This statement allows us to check directly if a set is empty or not.\n",
    "    print(new_set.pop()) # Remember that pop returns the element from the set that is being removed\n",
    "else:\n",
    "    print(\"Set is now empty\") # Else keywords can be added which will run when the condition of the while loop becomes false.\n",
    "\n",
    "while False:\n",
    "    print(\"When the initial condition is false, the loop will not run at all.\") # This statement won't be printed"
   ],
   "id": "d475ff9f2013a3cf",
   "outputs": [],
   "execution_count": null
  },
  {
   "metadata": {},
   "cell_type": "markdown",
   "source": [
    "## Control Keywords\n",
    "\n",
    "To control behaviour in loops, for example when to cancel iteration or to continue to the next iteration, Python provides two keywords. These are `break` and `continue`. `break` cancels the iteration all together and `continue` terminates the current interation and continues to the next item in the iterable. Python also provides a third keyword, `pass`. This is a keyword that just lets the interpreter know it should not do anything with that control statement."
   ],
   "id": "8d4d7a72cf6f471a"
  },
  {
   "metadata": {},
   "cell_type": "code",
   "source": [
    "x = list(range(1,5)) # An easy way to create a list of numbers\n",
    "\n",
    "while True: # The break keyword here prevents the loop from running forever.\n",
    "    break\n",
    "    \n",
    "for i in x:\n",
    "    if i % 2 == 1: # Remember that the modulo operator gives the rest after division.\n",
    "        continue\n",
    "        print(\"Code below the continue won't be run, as the iteration gets terminated early\")\n",
    "    else:\n",
    "        print(f\"This is an even number: {i}\")\n",
    "else:\n",
    "    print(\"Loop has finished\")\n",
    "    \n",
    "for i in x:\n",
    "    pass # Do nothing and continue\n"
   ],
   "id": "836c152e91098ace",
   "outputs": [],
   "execution_count": null
  },
  {
   "metadata": {},
   "cell_type": "markdown",
   "source": "The final `for` loop has an `else` statement attached as well. This `else` clause will always be executed when the `for` loop has finished its final iteration.",
   "id": "68bd6ec2cc118e66"
  },
  {
   "metadata": {},
   "cell_type": "markdown",
   "source": [
    "## Match Case\n",
    "\n",
    "The `match` statement provides a way to evaluate a value and run its multiple conditions. It is very similar to a long if statement with potentially multiple `elif` clauses. There is also a default clause that will be executed if not match is found with the other cases in the statement. Just like `if` statements, the evaluation of the conditions will stop once a match is found."
   ],
   "id": "f2ad18105881ed24"
  },
  {
   "metadata": {},
   "cell_type": "code",
   "source": [
    "x = 2\n",
    "\n",
    "match x: # Define the target variable that you want to match\n",
    "    case 1: # Define the values that you want to match to.\n",
    "        print(\"x equals 1\") \n",
    "    case 2:\n",
    "        print(\"x equals 2\")\n",
    "    case 3:\n",
    "        print(\"x equals 3\")\n",
    "    case _:\n",
    "        print(\"x does not equal 1, 2, or 3\")\n",
    "        \n",
    "y = \"World\"\n",
    "\n",
    "match y:\n",
    "    case \"Hello\":\n",
    "        print(\"Hello\")\n",
    "    case \"World\":\n",
    "        print(\"World\")\n",
    "    case _:\n",
    "        print(\"Hello, World!\")\n"
   ],
   "id": "be4571c44706cf97",
   "outputs": [],
   "execution_count": null
  },
  {
   "metadata": {},
   "cell_type": "markdown",
   "source": [
    "## List Comprehension\n",
    "\n",
    "List comprehension is a special form of loops to work with lists in Python. The first time you look at it, it can be quite confusing as to what is going on. I will first give an example, and then discuss some more how this works as I think an example is important in explaining this concept.\n"
   ],
   "id": "a2acd6c1ccf77f53"
  },
  {
   "metadata": {},
   "cell_type": "code",
   "source": [
    "x = list(range(0,6))\n",
    "print(f\"Original list:          {x}\")\n",
    "print(\"---------------------------------\")\n",
    "\n",
    "new_list = [i for i in x if i % 2 == 0] # This is a list comprehension. It is equivalent to the loop below:\n",
    "print(f\"List comprehension:     {new_list}\")\n",
    "print(\"---------------------------------\")\n",
    "\n",
    "new_list = []\n",
    "for i in x:\n",
    "    if i % 2 == 0: # Check if number is even\n",
    "        new_list.append(i)\n",
    "print(f\"Equivalent for loop:    {new_list}\")"
   ],
   "id": "5b32e0b9388bc5ba",
   "outputs": [],
   "execution_count": null
  },
  {
   "metadata": {},
   "cell_type": "markdown",
   "source": [
    "Don't worry if you don't quite get this straight away, the syntax can be quite convoluted to read at first. The list comprehension is a way to create a new list from an existing list, but with some conditions applied to it. Think of it as a filter on an existing list. The syntax is as follows:\n",
    "\n",
    "`[expression for item in iterable if condition]`\n",
    "\n",
    "# Exercises\n",
    "\n",
    "## If Statements\n",
    "\n",
    "Write an if statement with all the variables below so that it prints a message."
   ],
   "id": "79237b3e8d0c354d"
  },
  {
   "metadata": {},
   "cell_type": "code",
   "source": [
    "my_true_var = True\n",
    "my_false_var = False\n",
    "my_not_false_var = not False"
   ],
   "id": "5817da24f3f2caa9",
   "outputs": [],
   "execution_count": null
  },
  {
   "metadata": {},
   "cell_type": "markdown",
   "source": [
    "## For loops\n",
    "\n",
    "Create a new list using what you have learned in the previous chapter and print all values."
   ],
   "id": "20b3284c24d21dbd"
  },
  {
   "metadata": {},
   "cell_type": "code",
   "source": "",
   "id": "c33b0696afff5dbe",
   "outputs": [],
   "execution_count": null
  },
  {
   "metadata": {},
   "cell_type": "markdown",
   "source": [
    "## While loops\n",
    "\n",
    "Create a while loop that keeps adding 1 to the variable until it equals 10. Print the final value."
   ],
   "id": "791e9a69a91bc853"
  },
  {
   "metadata": {},
   "cell_type": "code",
   "source": "my_incrementing_var = 0",
   "id": "28b13dec7fe4d997",
   "outputs": [],
   "execution_count": null
  },
  {
   "metadata": {},
   "cell_type": "markdown",
   "source": "Rewrite your for loop you have made before into a while loop. Hint: Use list indexing (`[]`) and the `len(list)` properties.",
   "id": "13452bb94fd3bfaf"
  },
  {
   "metadata": {},
   "cell_type": "code",
   "source": "",
   "id": "215e283bc0b71850",
   "outputs": [],
   "execution_count": null
  },
  {
   "metadata": {},
   "cell_type": "markdown",
   "source": [
    "## Control Statements\n",
    "\n",
    "Write an infinite loop. Break this loop when a variable becomes 20. If you get stuck in the loop, use the stop button in the toolbar to stop the program from running. Print value of the variable after the loop."
   ],
   "id": "85bf3033996484ef"
  },
  {
   "metadata": {},
   "cell_type": "code",
   "source": "",
   "id": "1b253964c7a7d867",
   "outputs": [],
   "execution_count": null
  },
  {
   "metadata": {},
   "cell_type": "markdown",
   "source": "In the code below. Add an if statement so that iterations with even numbers will be skipped. Use the `continue` keyword. Do not change the indentation of the existing code. Remember how to use the modulo operator.",
   "id": "32cc72a9ca123d0a"
  },
  {
   "metadata": {},
   "cell_type": "code",
   "source": [
    "my_number_list = list(range(1,11))\n",
    "print(my_number_list)\n",
    "for i in my_number_list:\n",
    "\n",
    "    print(f\"{i} is odd\")"
   ],
   "id": "ac7005c010150336",
   "outputs": [],
   "execution_count": null
  },
  {
   "metadata": {},
   "cell_type": "markdown",
   "source": [
    "## List Comprehension\n",
    "\n",
    "Write a list comprehension that exponentiates (with any exponent) the numbers in the given list. Print the resulting list."
   ],
   "id": "eecab37f1040fc57"
  },
  {
   "metadata": {},
   "cell_type": "code",
   "source": [
    "numbers_to_exponentiate = list(range(1,6))\n",
    "print(numbers_to_exponentiate)"
   ],
   "id": "858be2d470ac9d02",
   "outputs": [],
   "execution_count": null
  }
 ],
 "metadata": {
  "kernelspec": {
   "display_name": "Python 3",
   "language": "python",
   "name": "python3"
  },
  "language_info": {
   "codemirror_mode": {
    "name": "ipython",
    "version": 2
   },
   "file_extension": ".py",
   "mimetype": "text/x-python",
   "name": "python",
   "nbconvert_exporter": "python",
   "pygments_lexer": "ipython2",
   "version": "2.7.6"
  }
 },
 "nbformat": 4,
 "nbformat_minor": 5
}
