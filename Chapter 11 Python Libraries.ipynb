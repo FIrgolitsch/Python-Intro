{
 "cells": [
  {
   "metadata": {},
   "cell_type": "markdown",
   "source": [
    "# Chapter 11: Python Libraries\n",
    "\n",
    "In previous chapter we have discussed python modules, packages, and libraries. I introduced a package that I have created for this book and used some of its functions. There are a lot more libraries out there, however. Some of them will be covered the next couple chapters. In this chapter, I will introduce some of the tools that Python uses to manage all these libraries.\n",
    "\n",
    "## Python Package Index (PyPI)\n",
    "\n",
    "The Python Package Index (PyPI) is a repository of software for the Python programming language. You can find the PyPI at [https://pypi.python.org/pypi](https://pypi.python.org/pypi). When installing a library, this is often where it is downloaded from. They also offer the option to upload your own package to PyPi for others to use.\n",
    "\n",
    "## Pip\n",
    "\n",
    "Pip is the package manager for Python. Using this command we can install packages, often from PyPi, and install these into our current Python environment. To install a package using pip, you can use the following command:"
   ],
   "id": "4358badd20f7e49b"
  },
  {
   "metadata": {},
   "cell_type": "code",
   "source": "!pip install demo-package-python # The exclamation mark is used to run shell (terminal) commands in Jupyter notebooks.",
   "id": "3480819e76455235",
   "outputs": [],
   "execution_count": null
  },
  {
   "metadata": {},
   "cell_type": "markdown",
   "source": "As you can see, the package `demo-package-python` was installed. It also included some other packages such as `simplejson`. These packages are so-called dependencies of the `python-dummy` package. This makes sure that all the function in the `python-dummy` package that depend on other packages will work correctly. Pip will automatically install these packages for you.",
   "id": "a47dbb2161ace02"
  },
  {
   "metadata": {},
   "cell_type": "markdown",
   "source": [
    "## Local Installation\n",
    "\n",
    "Sometimes you might want to install a package directly from the source code. This can be done by navigating to the directory where the `setup.py` or `pyproject.toml` file is located and running the following command:"
   ],
   "id": "b2dc11874dd24912"
  },
  {
   "metadata": {},
   "cell_type": "code",
   "outputs": [],
   "execution_count": null,
   "source": "!pip install .",
   "id": "c34bf0d6677c8d3d"
  },
  {
   "metadata": {},
   "cell_type": "markdown",
   "source": "This will use the information in the local files to install the package into the enviornment. This is useful when you are developing a package and want to test it out in your current environment or if a specific version of a package is not available on PyPi.",
   "id": "1275f0483f4f3e29"
  }
 ],
 "metadata": {
  "kernelspec": {
   "display_name": "Python 3",
   "language": "python",
   "name": "python3"
  },
  "language_info": {
   "codemirror_mode": {
    "name": "ipython",
    "version": 2
   },
   "file_extension": ".py",
   "mimetype": "text/x-python",
   "name": "python",
   "nbconvert_exporter": "python",
   "pygments_lexer": "ipython2",
   "version": "2.7.6"
  }
 },
 "nbformat": 4,
 "nbformat_minor": 5
}
