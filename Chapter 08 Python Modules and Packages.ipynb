{
 "cells": [
  {
   "metadata": {},
   "cell_type": "markdown",
   "source": [
    "# Chapter 8: Python Modules & Packages\n",
    "\n",
    "Now that we know how to define functions and classes, we need some way to store this code to be able to reuse them later. This is where modules and packages come in. Modules are python files (`*.py`) which hold different classes or functions. Packages are just multiple modules placed in the same container. For this demo, a package was included to demonstrate their workings and give you an idea of how to work with them. Many external packages are also available, and a collection of these is called a library. We will not be covering these in this chapter but rather in Chapter 11, right before we move on to use some of these external libraries.\n",
    "\n",
    "For this tutorial, a small package (named `my_package`) has been included to demonstrate the functionality. I would recommend using jupyter lab to view this notebook specifically as it allows you to navigate to the package easily and few some of the code files to gain a better understanding of what is going on. Let's first start by importing a function from this package."
   ],
   "id": "c4228b3d9a431fcc"
  },
  {
   "metadata": {},
   "cell_type": "code",
   "source": "from my_package import my_sum_function",
   "id": "b684e4efec6ce680",
   "outputs": [],
   "execution_count": null
  },
  {
   "metadata": {},
   "cell_type": "markdown",
   "source": "You have seen imports before, but up until now we never stopped to have a look at them and see what they're about. In this example above we have imported `my_sum_function` from  `my_package`. This now means we can use this function in our own code:",
   "id": "d0a5359760901a8"
  },
  {
   "metadata": {},
   "cell_type": "code",
   "source": [
    "a = 1\n",
    "b = 2\n",
    "result = my_sum_function(a, b)\n",
    "print(result)"
   ],
   "id": "fa63a38c5a638231",
   "outputs": [],
   "execution_count": null
  },
  {
   "metadata": {},
   "cell_type": "markdown",
   "source": "As you can see, we can use this function just as we would use any other function that we have defined in our own scripts or notebooks. We can do the same with classes:",
   "id": "f0ff6b1485c3ad0d"
  },
  {
   "metadata": {},
   "cell_type": "code",
   "source": [
    "from my_package import MyClass\n",
    "my_object = MyClass()\n",
    "my_object.print_the_thing()"
   ],
   "id": "48091f67bbf7582e",
   "outputs": [],
   "execution_count": null
  },
  {
   "metadata": {},
   "cell_type": "markdown",
   "source": [
    "The power of this should become obvious straight away. We can just take some package from somewhere and start using all the code inside! This is what makes Python very easy to work with, as for most common problems, someone will have written a solution already, and you can kindle take it, thank them for their hard work, and start using their solutions straight away. While this is a good thing, it is not the main reason why packages are very powerful tools to use.\n",
    "\n",
    "The main point of packages is to organize code in such a way that you know where you can find functions and classes you have written before and prevent any clashes of names. Let's look at the example below where we import the entire package `my_package` and define some of our own functions which do similar things."
   ],
   "id": "5fe09630b8e020d5"
  },
  {
   "metadata": {},
   "cell_type": "code",
   "source": [
    "import my_package\n",
    "\n",
    "def my_sum_function(a, b):\n",
    "    return a * b # Oh, no! We used the wrong operator.\n",
    "\n",
    "a = 2\n",
    "b = 5\n",
    "\n",
    "package_result = my_package.my_sum_function(a, b)\n",
    "my_result = my_sum_function(a, b)\n",
    "\n",
    "print(package_result)\n",
    "print(my_result)"
   ],
   "id": "af4d6bd33fa8bcac",
   "outputs": [],
   "execution_count": null
  },
  {
   "metadata": {},
   "cell_type": "markdown",
   "source": "You can now see that we have different results depending on where the function came from, even though they have the same name. We call these packages (and their modules) namespaces. All the functions inside are bound to their corresponding namespace. In this case we used the namespace `my_package` to make sure we get the `my_sum_function` from the package. If we use the syntax we used earlier (`import ... from ...`) we introduce the function or class we are importing into our current name space. If we were to define a new function with the same name when it is imported in this manner, we will overwrite the imported function.",
   "id": "7a38e21b62b9fa09"
  },
  {
   "metadata": {},
   "cell_type": "code",
   "source": [
    "from my_package import my_sum_function\n",
    "\n",
    "def my_sum_function(a, b):\n",
    "    return a * b\n",
    "\n",
    "a = 2\n",
    "b = 5\n",
    "\n",
    "package_result = my_sum_function(a, b)\n",
    "my_result = my_sum_function(a, b)\n",
    "\n",
    "print(package_result)\n",
    "print(my_result)"
   ],
   "id": "4d502a8abd97ff6f",
   "outputs": [],
   "execution_count": null
  },
  {
   "metadata": {},
   "cell_type": "markdown",
   "source": [
    "As you can see, both the calls of `my_sum_function` are now to the function that we have defined in the cell, and the import command is now superfluous. It is important to keep in mind where functions are coming from and how you want to use them. Both of these methods are valid, and it is up to your preference what you use. By moving the function into the current name space you remove the specific naming of the namespace before the function call, which looks cleaner, but you might run into problems if you have functions that you want to call the same name.\n",
    "\n",
    "Another powerful features of using packages is that we can hide certain parts that we might not want to expose, or don't need to expose so it is easier for users of the package to see what is meant to be used by them. For example, in this case `MyClass` used earlier is a subclass of `MyAbstractClass` but if we try to import it, we get an error."
   ],
   "id": "ed40b0179f987b37"
  },
  {
   "metadata": {},
   "cell_type": "code",
   "source": "from my_package import MyAbstractClass",
   "id": "42468fc11cb72741",
   "outputs": [],
   "execution_count": null
  },
  {
   "metadata": {},
   "cell_type": "markdown",
   "source": [
    "If you want, you can take a look in the `my_module.py` and see it's there. Why isn't it available then?\n",
    "\n",
    "Every Python package is initialised with an `__init__.py` file. This file is responsible for letting Python know what is available once we import the package. This file is also what separates a Python pacakge from a normal directory with Python files. As you can see, `MyAbstractClass` is not imported in this file, while `MyClass` is. We can still use `MyAbstractClass` however, if we directly import it from the module `my_module.py`."
   ],
   "id": "2cc6e7c283df1aa6"
  },
  {
   "metadata": {},
   "cell_type": "code",
   "source": "from my_package.my_module import MyAbstractClass",
   "id": "f64eb247e7545b33",
   "outputs": [],
   "execution_count": null
  },
  {
   "metadata": {},
   "cell_type": "markdown",
   "source": [
    "By removing the abstract class from the so called 'top level' of the package, we have removed the possibility to import it there and made the interface with the package cleaner. After all, often you are not interested in an abstract class when you want to use the package, you just care about the concrete ones containing the implementation you are looking for. The same goes for functions. Functions that sole exist to support other functions often not needed outside the package, so there is no need to expose them through the top level of the package. This also helps with resolving naming conflicts by seperating each function into its own namespace through the different modules.\n",
    "\n",
    "If you want, you can try and add some things to the package or module and play around with it to discover how the structure works. You can even create packages inside the packages to further segment the code. As long as the `__init__.py` files are included, you can import functions and classes from the lowest level all the way up to `my_package`. Per the definition given at the start of this chapter, adding more packages will technically turn `my_package` into a library.\n",
    "\n",
    "For now, that's all there is to say about modules and packages. They are a way to structure your code and to prevent name clashes by segmenting all the different parts of your code into multiple namespaces. As you continue working with Python, you might want to develop your own package or library and maybe even make it publicly available. More on this in Chapter 11 where I will cover some of the tooling used to download existing libraries and also shortly discuss how you can make your own."
   ],
   "id": "bb67215bfb47a5a2"
  },
  {
   "metadata": {},
   "cell_type": "markdown",
   "source": [
    "# Exercises\n",
    "\n",
    "## Package Structure\n",
    "\n",
    "Make the MyAbstractClass importable from the top level of the package. Look at how the other class and functions are handled. Run the cell below without error."
   ],
   "id": "cb7e25880cf6340"
  },
  {
   "metadata": {},
   "cell_type": "code",
   "source": "from my_package import MyAbstractClass",
   "id": "39f5c9f82d7f80",
   "outputs": [],
   "execution_count": null
  },
  {
   "metadata": {},
   "cell_type": "markdown",
   "source": "Try and play around with adding functions, classes, or even files to `my_package` and import them. Show the results of some of these in the cell below.",
   "id": "80e2ad2a81f5ffaa"
  },
  {
   "metadata": {},
   "cell_type": "code",
   "source": "",
   "id": "21da1dcc3bbb533b",
   "outputs": [],
   "execution_count": null
  }
 ],
 "metadata": {
  "kernelspec": {
   "display_name": "Python 3",
   "language": "python",
   "name": "python3"
  },
  "language_info": {
   "codemirror_mode": {
    "name": "ipython",
    "version": 2
   },
   "file_extension": ".py",
   "mimetype": "text/x-python",
   "name": "python",
   "nbconvert_exporter": "python",
   "pygments_lexer": "ipython2",
   "version": "2.7.6"
  }
 },
 "nbformat": 4,
 "nbformat_minor": 5
}
