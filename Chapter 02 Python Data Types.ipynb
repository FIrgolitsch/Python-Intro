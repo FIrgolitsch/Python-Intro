{
 "cells": [
  {
   "cell_type": "markdown",
   "id": "af897c7ed5213fd0",
   "metadata": {},
   "source": [
    "# Chapter 02: Python Data Types\n",
    "\n",
    "This chapter will cover some of the basic data types available in Python. You will get familiar with the basic data types in Python and how to use them. I'll also introduce variables and how to work with them. This includes some theory on how the memory management work when you assign and update variables in Python."
   ]
  },
  {
   "cell_type": "markdown",
   "id": "e0176151271bfb16",
   "metadata": {},
   "source": [
    "## Variables\n",
    "\n",
    "In programming languages variables are used to store data values. These data values could be anything like a number, a piece of text, or and entire book if you're ambitious. All these variables have a certain type associated with them. A number is defined as an integer for whole numbers and a float for decimal numbers. A piece of text is defined as a string. Python also has support for complex numbers by adding the `j` suffix to a number assignment. Let's look at some examples. Variables are assigned by using the `=` operator. The variable is on the left side of the operator and the value is on the right side. Let's look at some examples."
   ]
  },
  {
   "cell_type": "code",
   "id": "a83a6a0370ac6537",
   "metadata": {},
   "source": [
    "# Assigning an integer to a variable\n",
    "x = 5\n",
    "\n",
    "# Assigning a decimal number to a variable\n",
    "y = 5.5\n",
    "\n",
    "# Assigning a string to a variable\n",
    "z = \"Hello, World!\"\n",
    "\n",
    "# Assigning a complex number to a variable\n",
    "w = 5j\n",
    "\n",
    "# Printing the variables\n",
    "print(x)\n",
    "print(\"---------\")\n",
    "print(y)\n",
    "print(\"---------\")\n",
    "print(z)\n",
    "print(\"---------\")\n",
    "print(w)\n",
    "\n",
    "# Execute the cell by pressing Shift + Enter or the play button in the toolbar."
   ],
   "outputs": [],
   "execution_count": null
  },
  {
   "cell_type": "markdown",
   "id": "201670d668146d43",
   "metadata": {},
   "source": [
    "## Data Types\n",
    "\n",
    "As we can see, x was assigned the integer value of 5 and y the float value 5.5. For the assignment of numbers we can just directly assign the number to the variable. For strings, we need to use quotation marks. This can be either single or double quotes. In the example above we used double quotes. Double quotes are more common, but single quotes work as well. Other programming langues might have a different interpretation of the quotes so always make sure you know what they do. For example, using single quotes in Java or C# means that you are assigning a single character instead of a full string. We don't see the type of the variables above however, as the `print(..)` statement neatly outputs all the variables as text. Let's see next how we can show the type of the variables. This is useful when you want to make sure that a variable is what you expect it to be. For example, `5` might be a float, an integer or a string and behaviour will change accordingly."
   ]
  },
  {
   "cell_type": "code",
   "id": "258cea07a10ec775",
   "metadata": {},
   "source": [
    "print(type(x))\n",
    "print(type(y))\n",
    "print(type(z))\n",
    "print(type(w))"
   ],
   "outputs": [],
   "execution_count": null
  },
  {
   "cell_type": "markdown",
   "id": "933213dcde026c5d",
   "metadata": {},
   "source": [
    "We can now see what types of variables `x`, `y`, `z`, and `w` are: `x` is of class `int` (integer), `y` is of class `float`, `z` is of class `str` (string), and `w` is of class `complex`. There are many different types in Python, and there's no way to cover all of them. You can even create your own by creating a class. For now, the term class and type mean the same thing. In the case of an integer for example, the class defines what to do when we use the '+' operator (addition): it adds the two numbers that you give. However, if your class is a string, the '+' will glue the two strings together. Classes are quite complex, and are more extensively covered in chapter 7. \n",
    "\n"
   ]
  },
  {
   "metadata": {},
   "cell_type": "code",
   "source": [
    "print(5 + 5) # Integer + integer\n",
    "print(5. + 5.) # Float + float\n",
    "print('5' + '5') # String + string"
   ],
   "id": "9762ff64ad58487b",
   "outputs": [],
   "execution_count": null
  },
  {
   "metadata": {},
   "cell_type": "markdown",
   "source": "Now let's move to some other data types that are available in Python.",
   "id": "75b2fd6741475edc"
  },
  {
   "cell_type": "code",
   "id": "241e063b8a446250",
   "metadata": {},
   "source": [
    "# We can make lists!\n",
    "my_list = [1, 2, 3, 4, 5]\n",
    "\n",
    "# We can make dictionaries!\n",
    "my_dict = {'name': 'John', 'age': 25}\n",
    "\n",
    "# We can make tuples!\n",
    "my_tuple = (1, 2, 3, 4, 5)\n",
    "\n",
    "# We can make sets!\n",
    "my_set = {1, 2, 3, 4, 5}\n",
    "\n",
    "# We can make booleans!\n",
    "my_bool = True\n",
    "\n",
    "# We can make None!\n",
    "my_none = None\n",
    "\n",
    "# Printing the type of the variables\n",
    "print(type(my_list))\n",
    "print(type(my_dict))\n",
    "print(type(my_tuple))\n",
    "print(type(my_set))\n",
    "print(type(my_bool))\n",
    "print(type(my_none))"
   ],
   "outputs": [],
   "execution_count": null
  },
  {
   "cell_type": "markdown",
   "id": "ab978e63c7381618",
   "metadata": {},
   "source": [
    "As you can see, we can make lists, dictionaries, tuples, sets, booleans, and None objects in Python. Most of these data types we will cover more in the future, especially the lists, dictionaries, tuples and sets. These are collections of other data types, and are very useful for storing lots of data in a specific way.\n",
    "\n",
    "## String types\n",
    "\n",
    "In Python, there are some special string types which offer some benefit for the programmer when working with strings. Let's look at some of these."
   ]
  },
  {
   "metadata": {},
   "cell_type": "code",
   "source": [
    "# We can make strings!\n",
    "string = \"Hello, World!\"\n",
    "\n",
    "# We can make multiline strings!\n",
    "multiline_string = \"\"\"Hello,\n",
    "World!\"\"\"  # We can use triple quotes to make multiline strings\n",
    "\n",
    "# We can break strings into multiple lines using the line continuation character. This is useful if you have a long string that doesn't fit on one line.\n",
    "break_string = \"Hello, \" \\\n",
    "               \"World!\"\n",
    "\n",
    "# We can make raw strings!\n",
    "raw_string = r\"Hello, World!\"  # The 'r' indicates a raw string, ignoring special 'escape' characters.\n",
    "\n",
    "# We can make byte strings!\n",
    "byte_string = b\"Hello, World!\"  # The 'b' indicates a byte string, which is a sequence of bytes. The data type is bytes as well.\n",
    "\n",
    "# We can make formatted strings!\n",
    "message = \"Hello, World!\"\n",
    "formatted_string = f\"{message}\"  # Accolades are used to insert variables into the string. The 'f' indicates it's a formatted string. It's a very useful way to insert variables into strings.\n",
    "\n",
    "# Printing the type of the variables\n",
    "print(f\"Regular string:                 {string}\")\n",
    "print(type(string))\n",
    "print(\"---------\")\n",
    "print(f\"Multiline string:               {multiline_string}\")\n",
    "print(type(multiline_string))\n",
    "print(\"---------\")\n",
    "print(f\"String with line continuation:  {break_string}\")\n",
    "print(type(break_string))\n",
    "print(\"---------\")\n",
    "print(f\"Raw string:                     {raw_string}\")\n",
    "print(type(raw_string))\n",
    "print(\"---------\")\n",
    "print(f\"Byte string:                    {byte_string}\")  # This will print a 'b' in front of the text to signal it's a byte string\n",
    "print(type(byte_string))\n",
    "print(\"---------\")\n",
    "print(f\"Formatted string:               {formatted_string}\")\n",
    "print(type(formatted_string))"
   ],
   "id": "1275ffc48368017a",
   "outputs": [],
   "execution_count": null
  },
  {
   "metadata": {},
   "cell_type": "markdown",
   "source": [
    "## Booleans\n",
    "\n",
    " Booleans are used to represent True or False values and are very often use to check conditions. Boolean logic can be applied to them:"
   ],
   "id": "9f8d359149781a74"
  },
  {
   "cell_type": "code",
   "id": "b0fd156d45df77f2",
   "metadata": {},
   "source": [
    "x = True  # Keep the capital T in mind\n",
    "y = False # Keep the capital F in mind\n",
    "print(x)\n",
    "print(y)\n"
   ],
   "outputs": [],
   "execution_count": null
  },
  {
   "cell_type": "markdown",
   "id": "34102a61c0efed16",
   "metadata": {},
   "source": [
    "## Type Conversion\n",
    "\n"
   ]
  },
  {
   "cell_type": "markdown",
   "id": "147898cf79bca6d0",
   "metadata": {},
   "source": "Values can be converted to different types in python. For example, we can convert integers to floats or strings to integers. Pyhon provides built-in functions to do this. Functions are pieces of code that you can use to do specific operations. In this case, the function allows us to convert the datatypes. The code in these functions has been defined by the creators of pythons. Later we will look at creating functions of our own. Here are some examples:"
  },
  {
   "cell_type": "code",
   "id": "25a15b75d18eab42",
   "metadata": {},
   "source": [
    "x = 1\n",
    "y = \"2\"\n",
    "\n",
    "# Convert x to a float\n",
    "x_float = float(x)\n",
    "print(x_float)\n",
    "print(type(x_float))\n",
    "print(\"---------\")\n",
    "\n",
    "# Convert y to an integer\n",
    "y_int = int(y)\n",
    "print(y_int)\n",
    "print(type(y_int))"
   ],
   "outputs": [],
   "execution_count": null
  },
  {
   "cell_type": "markdown",
   "id": "598fd14f2905d5e9",
   "metadata": {},
   "source": [
    "These functions are useful to make sure the program behaves the way you expect. Most functions require a specific datatype and will behave differently when these datatypes don't match the expected input."
   ]
  },
  {
   "cell_type": "markdown",
   "id": "58ecf485f764695",
   "metadata": {},
   "source": [
    "## Memory Management\n",
    "\n",
    "All variables are stored in the memory of the machine. When we assign a value to a variable, we reserve a little bit of memory where that variable is kept and we can access it later. When we overwrite the value of a variable, the memory reserved for the old value is released and the new value is stored in the memory. In Python, this is all handled for you and you don't need to worry about. There are however some situations where it might seem confusing how this assignment works. Let's look at the following example:"
   ]
  },
  {
   "cell_type": "code",
   "id": "4a64e5be9ae73ae0",
   "metadata": {},
   "source": [
    "# Assign a list to x\n",
    "x = [0.5]\n",
    "print(x)\n",
    "print(\"---------\")\n",
    "# Assign x to y\n",
    "y = x\n",
    "print(y)\n",
    "print(\"---------\")\n",
    "\n",
    "# Change the item in the list x from 0.5 to 0.6\n",
    "x[0] = 0.6\n",
    "print(x)\n",
    "print(y)"
   ],
   "outputs": [],
   "execution_count": null
  },
  {
   "cell_type": "markdown",
   "id": "7c3d9c284d5eabb4",
   "metadata": {},
   "source": [
    "That's strange right? We assigned the list [0.5] to y on line 6 of the previous cell. Why is it then that we get [0.6] when we print y on line 14 while we never updated y? Let's look at what happens when we do the same but with integers."
   ]
  },
  {
   "cell_type": "code",
   "id": "88a51bdf7c62e993",
   "metadata": {},
   "source": [
    "# Assign an integer to x\n",
    "x = 5\n",
    "print(x)\n",
    "print(\"---------\")\n",
    "# Assign x to y\n",
    "y = x\n",
    "print(y)\n",
    "print(\"---------\")\n",
    "\n",
    "# Change the value of x from 5 to 6\n",
    "x = 6\n",
    "print(x)\n",
    "print(y)"
   ],
   "outputs": [],
   "execution_count": null
  },
  {
   "cell_type": "markdown",
   "id": "7c3ea4b63d89f817",
   "metadata": {},
   "source": [
    "This time we see that y is still the same value we assigned as on line 6. Why does this occur? For this I have to explain two sorts of variables: mutable and immutable variables. Mutable variables are variables that can be changed after they have been assigned. The variable will be a reference to the value that is assigned. Immutable variables are variables that cannot be changed after they have been assigned. When you assign a new value to an immutable variable, you actually create a new variable in the memory. This is why the value of y doesn't change in the second example.\n",
    "\n",
    "Understanding mutable and immutable variables is very important to avoid confusion. Often strange behavior in your code can be explained by this. If you're ever in doubt, you can always check the type of the variable to see if it's mutable or immutable. As a rule of thumb: Values are immutable, collections are mutable. This is not always the case, but it's a good starting point."
   ]
  },
  {
   "metadata": {},
   "cell_type": "markdown",
   "source": [
    "# Exercises\n",
    "\n",
    "## Data Types\n",
    "\n",
    "In the cell below, please define some variables with data types `int`, `str` and `bool`. Print these data types to show them."
   ],
   "id": "cbbe0ac9710ca947"
  },
  {
   "metadata": {},
   "cell_type": "code",
   "source": "",
   "id": "42d015223bab0ca",
   "outputs": [],
   "execution_count": null
  },
  {
   "metadata": {},
   "cell_type": "markdown",
   "source": [
    "## Type Conversion\n",
    "\n",
    "Take on of the variables in the cell above, and convert them to another data type. Put the conversion you have chosen in a comment and show the data type."
   ],
   "id": "8d39235f373da77a"
  },
  {
   "metadata": {},
   "cell_type": "code",
   "source": "",
   "id": "61b5836e27f5a97e",
   "outputs": [],
   "execution_count": null
  },
  {
   "metadata": {},
   "cell_type": "markdown",
   "source": [
    "## Formatted Strings\n",
    "\n",
    "In the next cell, define one string variable and one integer variable. Put these together into a format string (`f\"\"`) and print the result."
   ],
   "id": "ca9460540dfeb628"
  },
  {
   "metadata": {},
   "cell_type": "code",
   "source": "",
   "id": "f774fa585f1c1cf8",
   "outputs": [],
   "execution_count": null
  }
 ],
 "metadata": {
  "kernelspec": {
   "display_name": "Python 3 (ipykernel)",
   "language": "python",
   "name": "python3"
  },
  "language_info": {
   "codemirror_mode": {
    "name": "ipython",
    "version": 3
   },
   "file_extension": ".py",
   "mimetype": "text/x-python",
   "name": "python",
   "nbconvert_exporter": "python",
   "pygments_lexer": "ipython3",
   "version": "3.10.14"
  }
 },
 "nbformat": 4,
 "nbformat_minor": 5
}
