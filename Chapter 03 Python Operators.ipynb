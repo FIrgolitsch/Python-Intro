{
 "cells": [
  {
   "metadata": {},
   "cell_type": "markdown",
   "source": [
    "# Chapter 3: Python Operators\n",
    "\n",
    "In this chapter we will cover the basic operators of python and cover some of the more esoteric ones. You will likely be familiar with a lot of them as most are very closely related to their counterparts in mathematics."
   ],
   "id": "3f7e37def80c9d5"
  },
  {
   "metadata": {},
   "cell_type": "markdown",
   "source": [
    "## Arithmetic Operators\n",
    "\n",
    "Arithmetic operators are the operates used to perform common mathematical functions. These only work on basic datatypes such as `int`, `float`, and `complex`. The cell below will show the supported ones."
   ],
   "id": "e324fa64a50ae6fc"
  },
  {
   "metadata": {},
   "cell_type": "code",
   "source": [
    "x = 5\n",
    "y = 2\n",
    "\n",
    "# Addition\n",
    "print(f\"Addition:       {x + y}\")\n",
    "\n",
    "# Subtraction\n",
    "print(f\"Subtraction:    {x - y}\")\n",
    "\n",
    "# Multiplication\n",
    "print(f\"Multiplication: {x * y}\")\n",
    "\n",
    "# Division\n",
    "print(f\"Division:       {x / y}\")\n",
    "\n",
    "# Exponentiation\n",
    "print(f\"Exponentiation: {x ** y}\")\n",
    "\n",
    "# Modulus\n",
    "print(f\"Modulus:        {x % y}\")\n",
    "\n",
    "# Floor division (also called integer division)\n",
    "print(f\"Floor division: {x // y}\")"
   ],
   "id": "4412eae5712703d6",
   "outputs": [],
   "execution_count": null
  },
  {
   "metadata": {},
   "cell_type": "markdown",
   "source": [
    "Most of these operators are very straightforward and I don't think they require any explanation. I will go over the modulus and floor division operator as these are less common. One small note on division, however. We can see that the division operation returns a float, instead of an integer. This makes intuitive sense, but we did get a different data type back compared to what we put into the expression. This is due to python always returning floats when performing division as the quotient of a division is often not an integer. Keep this in mind when performing division with integers, or perform floor division if you do not care about what's after the decimal.\n",
    "\n",
    "Floor division, also called integer division, performs a division on both the integers given and rounds down the decimal so that the result will be an integer. In this case, with normal division, `5 // 2` would result in `2.5`. With floor division, this gets rounded down to `2`. It is important to note that this function will always round down, you can think of this as just removing any numbers after the decimal point.\n",
    "\n",
    "The modulus operation returns the remainder after division. In the case of integers we first perform floor division to determine how many times the divisor fits into the dividend. In this case, two times as the result of `5 // 2` is `2`. This means that `1` is left over after we subtract the divider multiplied by the result of the floor division. For floats this works the same way, except normal division is used instead of floor division."
   ],
   "id": "e488fc2cc94a73c1"
  },
  {
   "metadata": {},
   "cell_type": "code",
   "source": [
    "x = 5.0\n",
    "y = 2.2\n",
    "\n",
    "print(f\"Modulus with floats: {x % y}\")"
   ],
   "id": "dc9fd84892c02b55",
   "outputs": [],
   "execution_count": null
  },
  {
   "metadata": {},
   "cell_type": "markdown",
   "source": [
    "## Assignment Operators\n",
    "\n",
    "Assignment operators refer to the collection of operators used to create or update an assignment to a variable. You already are familiar with the most important one `=`. This assigns the value to a new variable or overwrites the existing value. The assignment operators can often be combined with the arithmetic operators as a shorthand for writing the full expression. For example, `x += 1` will add one to the value assigned to `x` and updates `x` to reflect the new value. This is a shorthand for `x = x + 1`. Depending on you preferred coding style and the required clarity of the code you may always opt to write out the full expression if it's clearer to the reader of the code. Below are some of the most common assignment operators. There are more, but I will cover those at the end of the chapter once I've explained the base operators of these.\n"
   ],
   "id": "94f8be43623d3aeb"
  },
  {
   "metadata": {},
   "cell_type": "code",
   "source": [
    "# Assignment operator\n",
    "x = 5\n",
    "print(f\"Assignment:                 {x}\")\n",
    "\n",
    "# Addition assignment\n",
    "x += 1\n",
    "print(f\"Addition assignment:        {x}\")\n",
    "\n",
    "# Subtraction assignment\n",
    "x -= 1\n",
    "print(f\"Subtraction assignment:     {x}\")\n",
    "\n",
    "# Multiplication assignment\n",
    "x *= 2\n",
    "print(f\"Multiplication assignment:  {x}\")\n",
    "\n",
    "# Division assignment\n",
    "x /= 2\n",
    "print(f\"Division assignment:        {x}\")\n",
    "\n",
    "# Exponentiation assignment\n",
    "x **= 2\n",
    "print(f\"Exponentiation assignment:  {x}\")\n",
    "\n",
    "# Modulo assignment\n",
    "x %= 2\n",
    "print(f\"Modulo assignment:          {x}\")\n",
    "\n",
    "# Floor division assignment\n",
    "# Reset assignment to 5\n",
    "x = 5\n",
    "x //= 2\n",
    "print(f\"Floor division assignment:  {x}\")"
   ],
   "id": "fba082df7c4959a6",
   "outputs": [],
   "execution_count": null
  },
  {
   "metadata": {},
   "cell_type": "markdown",
   "source": "As you can see, this time you need to read the code in the cell from top to bottom to make sense of the result of the operations performed on `x`. That's why it's called an assignment expression. `x` no longer stays consistent as we keep doing the mathematical operation on it and replacing the existing value with the result of the operation. You may also have noticed that when performing the division, the print statement shows a float instead of an integer. Next, we will show the walrus operator, this is a special case of the `=` operator and written as `:=`. The name is chosen because the symbol somewhat represents a walrus' teeth.",
   "id": "6562c5c519153cef"
  },
  {
   "metadata": {},
   "cell_type": "code",
   "source": [
    "# Assign x = 3 within the function call.\n",
    "print(x := 3)\n",
    "\n",
    "# x still has the value assigned above.\n",
    "print(x)"
   ],
   "id": "3485f6b772013d5e",
   "outputs": [],
   "execution_count": null
  },
  {
   "metadata": {},
   "cell_type": "markdown",
   "source": "This one might a bit tricky to understand. What happens is that this operator allows for the assignment of the variable `x` to occur in a place where you will normally input parameters, in this case the parameter for the `print(..)` function. Normally, you would put a value in here and the value will be lost after the function has been run. By using the walrus operator the value persists even after the function has been run. In this example above, `x` keeps the value `3` after `print(..)` has been run. It's not an operator commonly seen, as there are limited use cases for it. In further chapters, it will be used in examples so you get an idea in what way it can be used. ",
   "id": "ccc7595064f1e19c"
  },
  {
   "metadata": {},
   "cell_type": "markdown",
   "source": [
    "## Comparison Operators \n",
    "\n",
    "The next operators are the so-called comparison operators. As the name implies, these compare variables to determine a boolean condition, `True` or `False`."
   ],
   "id": "1c8115c858ad798"
  },
  {
   "metadata": {},
   "cell_type": "code",
   "source": [
    "x = 5\n",
    "y = 2\n",
    "\n",
    "# Equal\n",
    "print(f\"Equal:                  {x == y}\")\n",
    "\n",
    "# Not equal\n",
    "print(f\"Not equal:              {x != y}\")\n",
    "\n",
    "# Greater than\n",
    "print(f\"Greater than:           {x > y}\")\n",
    "\n",
    "# Less than\n",
    "print(f\"Less than               {x < y}\")\n",
    "\n",
    "# Greater or equal than\n",
    "print(f\"Greater or equal than   {x >= 2}\")\n",
    "\n",
    "# Lesser or equal than\n",
    "print(f\"Less or equal than:     {x <= 2}\")"
   ],
   "id": "7d5cd2f4e7792d8b",
   "outputs": [],
   "execution_count": null
  },
  {
   "metadata": {},
   "cell_type": "markdown",
   "source": "As we can see above, the result of these expressions is always a boolean condition. These operators are thus useful in making decisions within the program depending on the desired conditions. For example, in combination with `if` code blocks, code is conditionally run depending on if the required condition is satisfied. More on these control structures in Chapter 5.",
   "id": "f6c9645fb809744c"
  },
  {
   "metadata": {},
   "cell_type": "markdown",
   "source": [
    "## Logical Operators\n",
    "Next are the logical operators. We already encountered them in Chapter 2 when talking about the boolean datatypes. These operators allow you to perform logical checks and chain conditions. The three operators are `and`, `or` and `not`."
   ],
   "id": "7dc58df9a1a40972"
  },
  {
   "metadata": {},
   "cell_type": "code",
   "source": [
    "x = 5\n",
    "y = 2\n",
    "\n",
    "# Check if both left and right are True\n",
    "print(f\"And:    {x==y and x!=y}\")\n",
    "\n",
    "# Check if either left or right is True\n",
    "print(f\"Or:     {x==y or x!=y}\")\n",
    "\n",
    "# Invert the required condition\n",
    "print(f\"Not:    {not x > y}\")"
   ],
   "id": "8f603c8dc8033ce4",
   "outputs": [],
   "execution_count": null
  },
  {
   "metadata": {},
   "cell_type": "markdown",
   "source": [
    "## Identity Operators\n",
    "\n",
    "The identity operators are used to check if two variables are the same object. You might think that you have seen this at the start of this chapter, with the `==` operator, but there is a difference in Python between two variables having the same value and being the same object. The same value means that if `x` and `y` are both assigned `1000`, they will be equal. The `is` operator however, will check if both the object assigned to the variable will point to the same address in memory. Let's do a little demonstration below using lists."
   ],
   "id": "cf927edd0eb33474"
  },
  {
   "metadata": {},
   "cell_type": "code",
   "source": [
    "# Create a new list\n",
    "x = []\n",
    "\n",
    "# Create another new list\n",
    "y = []\n",
    "\n",
    "# Assign the first list to z\n",
    "z = x\n",
    "\n",
    "print(f\"X is y:     {x is y}\")\n",
    "print(f\"X is z:     {x is z}\")\n",
    "print(f\"X equals y: {x == y}\")"
   ],
   "id": "9a2b5d4ce6a18966",
   "outputs": [],
   "execution_count": null
  },
  {
   "metadata": {},
   "cell_type": "markdown",
   "source": "As we can see, `x` and `y` are both assigned with new lists. This means that the both the new list objects get assigned a new place in memory. By assigning `x` to `z` we make `z` point to the same list object as `x`. This thus means that `x` and `z` are the same objects. The variable `y` is a different new list object. Because both the `x` and `y` have identical contents (both being empty lists), the `==` operator returns true. The `is` operator however, returns false because `x` and `y` are not the same object in memory. As a rule of thumb, always use the `==` operator when comparing values and the `is` operator when comparing objects.",
   "id": "ccab6aafa5658705"
  },
  {
   "metadata": {},
   "cell_type": "markdown",
   "source": "Another use case for `is` is in combination with the `NoneType`. As the `NoneType` indicates the absence of a value, it is often used to check if a variable has been assigned a value. This is done by checking if the variable is `None`. Below is an example of how this can be used.",
   "id": "9aec36d24ef5bbee"
  },
  {
   "metadata": {},
   "cell_type": "code",
   "source": [
    "x = 5\n",
    "y = None\n",
    "\n",
    "print(f\"X is none:      {x is None}\")\n",
    "print(f\"X is not none:  {x is not None}\")\n",
    "print(f\"Y is none:      {y is None}\")"
   ],
   "id": "d5619e0c7958925d",
   "outputs": [],
   "execution_count": null
  },
  {
   "metadata": {},
   "cell_type": "markdown",
   "source": [
    "## Membership Operators\n",
    "\n",
    "The membership operators are used to check if an object is a member of a collection. To put it in less techinical terms, it checks if something is already part of a list, tuple, dictionary, or set. The two operators are `in` and `not in`. Below is an example of how these operators can be used."
   ],
   "id": "7596ff55feb38593"
  },
  {
   "metadata": {},
   "cell_type": "code",
   "source": [
    "x = [1, 2, 3, 4, 5]\n",
    "\n",
    "print(f\"1 is in x:      {1 in x}\")\n",
    "print(f\"6 is not in x:  {6 not in x}\")\n",
    "print(f\"10 is in x:     {10 in x}\")"
   ],
   "id": "7a913a5c3884254a",
   "outputs": [],
   "execution_count": null
  },
  {
   "metadata": {},
   "cell_type": "markdown",
   "source": [
    "## Bitwise Operators\n",
    "\n",
    "The bitwise operators are used to perform bitwise operations on integers. These are less common in day-to-day programming, but are still useful in some cases. They are put in this tutorial for completeness’s sake. The operators are `&`, `|`, `^`, `~`, `<<`, and `>>`. Below is an example of how these operators can be used. Since these operations are performed on bits, extra prints er added to view the binary representation of the numbers."
   ],
   "id": "78a14d1cfdc3662f"
  },
  {
   "metadata": {},
   "cell_type": "code",
   "source": [
    "x = 4\n",
    "y = 2\n",
    "\n",
    "print(f'x:              {x:08b}')\n",
    "print(f'y:              {y:08b}')\n",
    "\n",
    "# Bitwise AND\n",
    "print(f\"X and y:        {x & y}\")\n",
    "\n",
    "# Bitwise OR\n",
    "print(f\"X or y:         {x | y}\")\n",
    "\n",
    "# Bitwise XOR\n",
    "print(f\"X xor y:        {x ^ y}\")\n",
    "\n",
    "# Bitwise NOT\n",
    "print(f\"Not x:          {~x}\")\n",
    "\n",
    "# Bitwise left shift\n",
    "print(f\"Left shift x:   {x << 1}\")\n",
    "\n",
    "# Bitwise right shift\n",
    "print(f\"Right shift x:  {x >> 1}\")"
   ],
   "id": "30d948439558dbf6",
   "outputs": [],
   "execution_count": null
  },
  {
   "metadata": {},
   "cell_type": "markdown",
   "source": [
    "It is important to keep in mind that these operations are performed on the bit representations of the numbers. The first operator, `&`, compares the different bits and sets the bits in the resulting position to 1. In this case that means comparing 100 and 010.\n",
    "As no ones are in the same position, 0 is returned. The same principle follows for the OR and XOR operators (`|` and `^`). \n",
    "\n",
    "The NOT operator inverts the bits. As the integers ares 'signed', meaning that the first bit is used to indicate if the number is positive or negative, the NOT operator will return a negative number if the initial number is positive and the other way around. Because the integers are signed, the behaviour of the `~` operator can be counter-intuitive as the result is not as simple as just flipping all the bits. With signed integers the result will always be $\\sim i = -i-1$.\n",
    "\n",
    "The final two operators (`<<` and `>>`) shift the bits to the left or right. This is equivalent to multiplying or dividing by 2. In the case of the left shift, the bits are moved to the left and the rightmost bits are filled with zeros. In the case of the right shift, the bits are moved to the right and the leftmost bits are filled with zeros."
   ],
   "id": "ca6d91816567f1b1"
  },
  {
   "metadata": {},
   "cell_type": "markdown",
   "source": [
    "# Exercises\n",
    "\n",
    "Some of these exercises are fairly trivial. Nonetheless, I think it's good practice just to write some code and get that into your system. \n",
    "\n",
    "## Arithmatic Operators\n",
    "Assign two numbers to variables and do some (you decide) computations with them. Assign the results to a variable and print them."
   ],
   "id": "10c374b996e46a3"
  },
  {
   "metadata": {},
   "cell_type": "code",
   "source": "",
   "id": "7ec7dc49c69b7423",
   "outputs": [],
   "execution_count": null
  },
  {
   "metadata": {},
   "cell_type": "markdown",
   "source": [
    "\n",
    "## Comparison Operators\n",
    "Check the equality of the numbers you have defined in the previous cell using the comparison operators. Print the results."
   ],
   "id": "7e8073e8e0e6985e"
  },
  {
   "metadata": {},
   "cell_type": "code",
   "source": "",
   "id": "ed9994f85ff9c842",
   "outputs": [],
   "execution_count": null
  },
  {
   "metadata": {},
   "cell_type": "markdown",
   "source": [
    "## Logical Operators\n",
    "Make a three-way logical comparison and print the result."
   ],
   "id": "16005baab74f8565"
  },
  {
   "metadata": {},
   "cell_type": "code",
   "source": "",
   "id": "c73c93f7b56e7c45",
   "outputs": [],
   "execution_count": null
  },
  {
   "metadata": {},
   "cell_type": "markdown",
   "source": [
    "## Identity Operators\n",
    "Assign variables that hold the same value but are not the same object. Hint: Try numbers over 1024."
   ],
   "id": "1d7641a25935bc4b"
  }
 ],
 "metadata": {
  "kernelspec": {
   "display_name": "Python 3",
   "language": "python",
   "name": "python3"
  },
  "language_info": {
   "codemirror_mode": {
    "name": "ipython",
    "version": 2
   },
   "file_extension": ".py",
   "mimetype": "text/x-python",
   "name": "python",
   "nbconvert_exporter": "python",
   "pygments_lexer": "ipython2",
   "version": "2.7.6"
  }
 },
 "nbformat": 4,
 "nbformat_minor": 5
}
