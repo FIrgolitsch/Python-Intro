{
 "cells": [
  {
   "cell_type": "markdown",
   "id": "ee40cd921f5e79f4",
   "metadata": {},
   "source": [
    "# Chapter 9: Python File I/O\n",
    "\n",
    "In this chapter we will have a look on how to open files in Python and how to read and write data to and from files. We will be covering some basic examples and some common file operations.\n",
    "\n",
    "Let's first start by opening a file for reading in Python."
   ]
  },
  {
   "cell_type": "code",
   "id": "a6846d57c56c9072",
   "metadata": {},
   "source": [
    "file = open('example.txt', 'r')\n",
    "file_data = file.read()\n",
    "print(file_data)\n",
    "file.close()"
   ],
   "outputs": [],
   "execution_count": null
  },
  {
   "cell_type": "markdown",
   "id": "1b8c2258f644d85f",
   "metadata": {},
   "source": [
    "We have now opened the `example.txt` text file included in this project and printed out the text. In the `open` function we define the name of the file and the mode in which we want to open the file. In this case it `r` which stands for read. The most common modes are:\n",
    "- `r` - Read mode which is used when the file is only being read.\n",
    "- `w` - Write mode which is used to edit and write new information to the file. Existing files with the same name will be overwritten.\n",
    "- `a` - Append mode, which is used to add new data to the end of the file; that is new information is automatically amended to the end.\n",
    "- `r+` - Special read and write mode, which is used to handle both actions when working with a file.\n",
    "- `b` - Binary mode, which is used to handle non-text files, such as images and sound files.\n",
    "\n",
    "Also, note the `file.close()` function. This is used to tell the system that we are done with the file and release it for other programs to use. It is always a good practice to close the file after you are done with it.\n",
    "\n",
    "We can add lines to the file using the append mode.\n"
   ]
  },
  {
   "cell_type": "code",
   "id": "c1666b490662f655",
   "metadata": {},
   "source": [
    "def open_and_print_file(file_name):\n",
    "    file = open(file_name, 'r')\n",
    "    file_data = file.read()\n",
    "    print(file_data)\n",
    "    file.close()\n",
    "\n",
    "file = open('example.txt', 'a')\n",
    "file.write('This is a new line')\n",
    "file.close()\n",
    "\n",
    "open_and_print_file('example.txt')"
   ],
   "outputs": [],
   "execution_count": null
  },
  {
   "cell_type": "markdown",
   "id": "1b7cacc4cf7df05d",
   "metadata": {},
   "source": [
    "As mentioned before, the `w` mode will write as if it is a new file. Old contents will thus be lost."
   ]
  },
  {
   "cell_type": "code",
   "id": "1c1b0073d7d48aff",
   "metadata": {},
   "source": [
    "file = open('example.txt', 'w')\n",
    "file.write('This is a new file')\n",
    "file.close()\n",
    "\n",
    "open_and_print_file('example.txt')"
   ],
   "outputs": [],
   "execution_count": null
  },
  {
   "cell_type": "markdown",
   "id": "c96e81f5bcd4966d",
   "metadata": {},
   "source": [
    "We now see that all the old contents have been lost, and we have just the new line that we have added.\n",
    "\n",
    "If you need to read and write to the code you can use the `r+` mode. This allows for both actions at the same time and thus saves some code and operations to the disk as we only have to open the file once."
   ]
  },
  {
   "cell_type": "code",
   "id": "a6530b228419fa63",
   "metadata": {},
   "source": [
    "file = open('example.txt', 'r+')\n",
    "data = file.read()\n",
    "print(data)\n",
    "file.write('\\nThis is an appended line')\n",
    "file.close()"
   ],
   "outputs": [],
   "execution_count": null
  },
  {
   "cell_type": "markdown",
   "id": "b0abd8de4907977a",
   "metadata": {},
   "source": [
    "We have now read the file and added a new line using the `r+` mode. While similar to using the `r` and `a` modes, there is a slight difference as the `a` mode will always place the new contents on a new line. The `r+` mode always appends the new data at the end of the file. This means that we have to add the 'newline' character `\\n` to the beginning of the new line (or at the end of the previous one if you are thinking ahead).\n",
    "\n",
    "Files also have multiple functions for reading the contents. So far we have used `read` which reads the entirety of the file. We can also read the file line by line using the `readline` function."
   ]
  },
  {
   "cell_type": "code",
   "id": "7d96318a5f5cf454",
   "metadata": {},
   "source": [
    "file = open('example.txt', 'r')\n",
    "line = file.readline()\n",
    "print(line)\n",
    "line = file.readline()\n",
    "print(line)"
   ],
   "outputs": [],
   "execution_count": null
  },
  {
   "cell_type": "markdown",
   "id": "396a26103abc3c92",
   "metadata": {},
   "source": [
    "Ever call to `readline` progress to the next line. We can combine this with a loop to read the entire file line by line."
   ]
  },
  {
   "cell_type": "code",
   "id": "c8da8f5f326bd54d",
   "metadata": {},
   "source": [
    "file = open('example.txt', 'r')\n",
    "for line in file:\n",
    "    print(line)"
   ],
   "outputs": [],
   "execution_count": null
  },
  {
   "cell_type": "markdown",
   "id": "18eaacc7d39dfaf5",
   "metadata": {},
   "source": [
    "This can be useful if you have data on each line which you want to process individually. An example of this is a CSV file, where each line is a row of data. Using the `readline` function we can read each line and split the data into columns, and process it further. There is also a way to read the entire file into a list of lines using the `readlines` function."
   ]
  },
  {
   "cell_type": "code",
   "id": "d1c7a9c1e06f9797",
   "metadata": {},
   "source": [
    "file = open('example.txt', 'r')\n",
    "lines = file.readlines()\n",
    "print(lines)"
   ],
   "outputs": [],
   "execution_count": null
  },
  {
   "cell_type": "markdown",
   "id": "1ba0f9f8296ba91",
   "metadata": {},
   "source": [
    "We have a list of lines that we can now process. We could now apply list comprehension to process the data further. For example, we can remove the newline character from each line."
   ]
  },
  {
   "cell_type": "code",
   "id": "a197ccdcd4393df4",
   "metadata": {},
   "source": [
    "file = open('example.txt', 'r')\n",
    "lines = file.readlines()\n",
    "lines = [line.strip() for line in lines]\n",
    "print(lines)"
   ],
   "outputs": [],
   "execution_count": null
  },
  {
   "cell_type": "markdown",
   "id": "f219a41cbbe6a9dd",
   "metadata": {},
   "source": [
    "The strip function is especially useful for this as it removes all whitespace and newline characters from the beginning and end of the string. This is useful for cleaning up data before processing it further.\n",
    "\n",
    "Besides text, we can also write binary data to files. This is useful for storing images, sound files, and other non-text data. We can do this by opening the file in binary mode. In this case, we will be opening an image file."
   ]
  },
  {
   "cell_type": "code",
   "id": "950c6c4d43c5b6a2",
   "metadata": {},
   "source": [
    "image = open('image.jpg', 'rb') # rb stands for read binary\n",
    "image_data = image.readlines()\n",
    "image.close()\n",
    "\n",
    "for i in range(10): # As the image data is large, we will only print the first 10 lines using the readlines function\n",
    "    print(image_data[i])"
   ],
   "outputs": [],
   "execution_count": null
  },
  {
   "cell_type": "markdown",
   "id": "54a3c1ae2ce036d0",
   "metadata": {},
   "source": [
    "This is the binary data of the image, represented as a byte string. In practice, images are harder to deal with as they are often encoded in a specific format, such as JPEG or PNG. If we want to load in the image data we often use external libraries such as `PIL` or `OpenCV` to handle the image data. Below is a short demonstration of how to load an image using the `PIL` library."
   ]
  },
  {
   "cell_type": "code",
   "id": "586d5d267b52b690",
   "metadata": {},
   "source": [
    "from PIL import Image\n",
    "\n",
    "image = Image.open('image.jpg')\n",
    "\n",
    "image.show()"
   ],
   "outputs": [],
   "execution_count": null
  },
  {
   "metadata": {},
   "cell_type": "markdown",
   "source": "This will open a new window and display the image. Image processing is a whole other topic, and we will not be covering it in this chapter. We will, however, be covering it in a later chapter.",
   "id": "fa1831311587baff"
  },
  {
   "cell_type": "markdown",
   "id": "de020778c0123da2",
   "metadata": {},
   "source": [
    "# Exercises\n",
    "\n",
    "Play around with some of the file operations we have covered in this chapter. Try to:\n",
    "1. Open a new file in write mode and write some data to it.\n",
    "2. Open the file in read mode and read the data you just added.\n",
    "3. Open the file in append mode and add some new data to it.\n",
    "4. Open the file in read mode and read the data line by line.\n",
    "5. Open the file in read mode and read the data into a list of lines.\n",
    "\n",
    "Show the work in the cell below. You could make functions for each operation to make it easier to test each operation. This will also help you get used to writing functions in Python."
   ]
  },
  {
   "metadata": {},
   "cell_type": "code",
   "source": "",
   "id": "f52fdfb4ecfe7026",
   "outputs": [],
   "execution_count": null
  }
 ],
 "metadata": {
  "kernelspec": {
   "display_name": "Python 3 (ipykernel)",
   "language": "python",
   "name": "python3"
  },
  "language_info": {
   "codemirror_mode": {
    "name": "ipython",
    "version": 3
   },
   "file_extension": ".py",
   "mimetype": "text/x-python",
   "name": "python",
   "nbconvert_exporter": "python",
   "pygments_lexer": "ipython3",
   "version": "3.10.14"
  }
 },
 "nbformat": 4,
 "nbformat_minor": 5
}
