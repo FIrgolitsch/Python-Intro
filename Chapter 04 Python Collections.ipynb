{
 "cells": [
  {
   "cell_type": "markdown",
   "id": "b90cb7aca80e32b0",
   "metadata": {},
   "source": [
    "# Chapter 4: Python Collections\n",
    "\n",
    "This chapter will cover the various collections in Python, their properties and how to work with them. These collections are used widely within python and can be used to represent complex data structures. That being said, often these collections are replaced in favour of more specialised collection types such as numeric arrays with the NumPy library.\n",
    "\n",
    "### Collection indexing\n",
    "\n",
    "Before we start I would like to make a small comment on how the indices of python collections work. Indexing in python always starts at 0. This means if you want to retrieve the first item of list, you would ask the collection for the item at index 0. Keep this in mind during this chapter. This will pop up again and again in most programming languages, with only a handful of exceptions."
   ]
  },
  {
   "cell_type": "markdown",
   "id": "383016a0ad06537b",
   "metadata": {},
   "source": [
    "## Lists\n",
    "\n",
    "The lists are the most basic type of collection in Python. This collection can hold any item, and does not care about maintaining the same datatype within the list. As mentioned in chapter 2, lists are mutable. This means that the contents of the variable can be modified without updating the reference. This is true for most collections, with a few exceptions which will be mentioned in this chapter. Bellow are an overview of the most common functions that can be used to create and modify lists, as well as a couple of utility function that help with working with the items inside the list."
   ]
  },
  {
   "cell_type": "code",
   "id": "e73d7fc0f64b8b0a",
   "metadata": {},
   "source": [
    "# Initialise a list using the square brackets [ and ]\n",
    "x = []\n",
    "print(f\"New list:           {x}\")\n",
    "\n",
    "# Add a new element to a list using the append function. Note: the append function is called on the list as does not return a value.\n",
    "x.append(\"A String\")\n",
    "x.append(12)\n",
    "print(f\"Append:             {x}\")\n",
    "\n",
    "# Get the first element from the list. Remember that indexing in Python starts at 0.\n",
    "first_element = x[0]\n",
    "print(f\"First element:      {first_element}\")\n",
    "\n",
    "# Get the second element from the list. From here I think you will see the pattern.\n",
    "second_element = x[1]\n",
    "print(f\"Second element:     {second_element}\")\n",
    "\n",
    "# Update the second element in the list with a new value. This is done by using an assignment operator on the specific index of a list.\n",
    "x[1] = 11\n",
    "print(f\"Updating value:     {x}\")\n",
    "\n",
    "# Remove an element. This is the actual value of the element you want to remove.\n",
    "x.remove(11)\n",
    "print(f\"Remove:             {x}\")\n",
    "\n",
    "# Remove an element by index. This removes the element at the given position in the list.\n",
    "x.pop(0)\n",
    "print(f\"Pop:                {x}\")\n",
    "\n",
    "# Combining the initialisation of the lists and adding the elements at once.\n",
    "x = [\"A String\", 12]\n",
    "print(f\"List with elements: {x}\")\n",
    "\n",
    "# Retrieve the index of an item inside the list.\n",
    "idx = x.index(12)\n",
    "print(f\"Index of 12:        {idx}\")\n",
    "\n",
    "# Add an item at a specific index. Insert at index 0, integer 5\n",
    "x.insert(0, 5)\n",
    "print(f\"Insert:             {x}\")\n",
    "\n",
    "# Count the number of the same elements in a list\n",
    "count = x.count(12)\n",
    "print(f\"Count:              {count}\")\n",
    "\n",
    "# Get the length (number of items) in a list\n",
    "length = len(x)\n",
    "print(f\"Length:             {length}\")\n",
    "\n",
    "# Reverse the list\n",
    "x.reverse()\n",
    "print(f\"Reverse:            {x}\")\n",
    "\n",
    "# Make a copy of a list\n",
    "y = x.copy()\n",
    "print(f\"Copy of x:          {y}\")\n",
    "\n",
    "# Clear list\n",
    "x.clear()\n",
    "print(f\"Clear:              {x}\")\n",
    "\n",
    "# Sort array\n",
    "x = [0, 2, 8, 4, 1]\n",
    "x.sort()\n",
    "print(f\"Sort:               {x}\")"
   ],
   "outputs": [],
   "execution_count": null
  },
  {
   "cell_type": "markdown",
   "id": "cbd0226f3bb768d6",
   "metadata": {},
   "source": [
    "## Dictionary\n",
    "\n",
    "The dictionary collection in Python is used to store key-value pairs. Any item can be stored in them but only immutable objects can be used as keys. This means that is for example not possible to use other collections, with few exceptions, as keys in the dictionary. A few options which are available to lists are not present for dictionaries. These are functions which have to do with the order the elements appear in. Dictionaries cannot be sorted as there is no order to the elements inside them. As such, they can also not be reversed.  Below is a demonstration of how to use them."
   ]
  },
  {
   "cell_type": "code",
   "id": "c0a92d45f0cf06f",
   "metadata": {},
   "source": [
    "# Create an empty dictionary with braces\n",
    "x = {}\n",
    "print(f\"New dictionary:     {x}\")\n",
    "\n",
    "# Add an item to the dictionary. This is done by directly passing the key as the index in the dictionary and using an assignment operator.\n",
    "x[0] = \"First item\"\n",
    "x[1] = \"Second item\"\n",
    "print(f\"Added items:        {x}\")\n",
    "\n",
    "# Use different immutable types as keys\n",
    "x[\"key\"] = 3\n",
    "x[(1,1)] = 4  # Tuples (denoted with the round parentheses) are fine as a key, as they are not mutable.\n",
    "print(f\"Other keys:         {x}\")\n",
    "\n",
    "# Values are modified the same way as with lists.\n",
    "x[0] = \"First item updated\"\n",
    "print(f\"Updating values:    {x}\")\n",
    "\n",
    "# Values are retrieved the same way as with lists.\n",
    "first_item = x[0]\n",
    "print(f\"Retrieving values:  {first_item}\")\n",
    "\n",
    "# Get a list of all the values in the dictionary\n",
    "values = x.values()\n",
    "print(f\"Values:             {values}\")\n",
    "\n",
    "# Remove an item from the dictionary\n",
    "x.pop(\"key\")    # Always use the key in the pop function for the dictionary.\n",
    "x.pop((1,1))\n",
    "print(f\"Remove:             {x}\")\n",
    "\n",
    "# Get a view of all the keys in the dictionary\n",
    "keys = x.keys()\n",
    "print(f\"Keys:               {keys}\")\n",
    "\n",
    "# Get a view of all the values in the dictionary\n",
    "values = x.values()\n",
    "print(f\"Values:             {values}\")\n",
    "\n",
    "# Get a view of all the key-value pairs in the dictionary\n",
    "items = x.items()\n",
    "print(f\"Items:              {items}\")\n",
    "\n",
    "# Clear the dictionary\n",
    "x.clear()\n",
    "print(f\"Clear:              {x}\")\n",
    "\n",
    "# Dictionaries can also be made using the dict() function. This function can take a list of tuples as an argument.\n",
    "x = dict([(0, \"First item\"), (1, \"Second item\")])\n",
    "print(f\"Dict function:      {x}\")\n",
    "\n",
    "# Or with the dict.fromkeys() function. This function takes a list of keys and a default value for all the keys.\n",
    "x = dict.fromkeys([0, 1], \"Default value\")\n",
    "print(f\"From keys:          {x}\")\n"
   ],
   "outputs": [],
   "execution_count": null
  },
  {
   "metadata": {},
   "cell_type": "markdown",
   "source": "Note the data types of the values, keys and items. These are a special type of list known as dict_values, dict_keys and dict_items. These are not list objects but can be converted to lists using the `list(items)` function. This is useful when you want to iterate over the items in the dictionary. We will look at such options in the next chapter. These objects are so called 'view' objects. These objects are called this way as they just represent the data in the original collection in a different way. This means data is not copied and is thus more efficient on memory. This also means that views cannot be modified. Any modification must happen to the original dictionary and will be reflected in the view object.",
   "id": "270aae6a3cda3caa"
  },
  {
   "metadata": {},
   "cell_type": "markdown",
   "source": [
    "## Sets\n",
    "\n",
    "Sets in Python are similar to their mathematical counterpart in that they are collections of unique items. This means that no set will contain duplicates and that there is no ordering in the elements in the set. Similarly to dictionaries, this means that the lists cannot be sorted or reversed. This also means, individual items in the set cannot be retrieved by an index. If you would try a similar approach as with lists by calling `x[0]` it will cause an error. Below are some examples of how to work with sets."
   ],
   "id": "bb17376fa699ba6b"
  },
  {
   "metadata": {},
   "cell_type": "code",
   "source": [
    "# Create an empty set\n",
    "x = set()\n",
    "print(f\"New set:                {x}\")\n",
    "\n",
    "# Add an item to the set\n",
    "x.add(1)\n",
    "x.add(2)\n",
    "print(f\"Added items:            {x}\")\n",
    "\n",
    "# Remove an item from the set\n",
    "x.remove(1)\n",
    "print(f\"Remove:                 {x}\")\n",
    "\n",
    "# Remove a random item from the set\n",
    "removed = x.pop()\n",
    "print(f\"Pop:                    {x}\")\n",
    "print(f\"Removed item:           {removed}\")\n",
    "\n",
    "# Clear the set\n",
    "x.clear()\n",
    "print(f\"Clear:                  {x}\")\n",
    "\n",
    "# You can also use lists to initialise sets\n",
    "values = [1,1,2,3,4,5]      # Note the duplicates in the list, and the lack of them in the resulting set.\n",
    "x = set(values)\n",
    "print(f\"From list:              {x}\")\n",
    "\n",
    "# Use sets to remove duplicates from a list\n",
    "values = [1,1,2,3,4,5]\n",
    "print(f\"List with duplicates:   {values}\")\n",
    "x = list(set(values))\n",
    "print(f\"Removed duplicates:     {x}\") # Note, x is a list now. See the square brackets in the print statement.\n"
   ],
   "id": "3b96552b292132f1",
   "outputs": [],
   "execution_count": null
  },
  {
   "metadata": {},
   "cell_type": "markdown",
   "source": [
    "## Tuples\n",
    "\n",
    "The final collection discussed in this chapter is the tuple. These are similar to lists but are immutable, meaning that once created they can never be modified. This is why we were able to use them as keys earlier in the dictionary. Tuples are created by using parentheses. Tuples do maintain the order of the elements, and thus an index can be used to retrieve items from the tuple. Below are some examples of how to work with tuples."
   ],
   "id": "d55ca6a7561f5b99"
  },
  {
   "metadata": {},
   "cell_type": "code",
   "source": [
    "# Use parentheses to create a tuple\n",
    "x = ()\n",
    "print(f\"New tuple:                      {x}\")\n",
    "\n",
    "# Tuples can be created with a single item by adding a comma after the item.\n",
    "x = (1,)\n",
    "print(f\"Single item tuple:              {x}\")\n",
    "\n",
    "# Tuples can also be created without parentheses.\n",
    "x = 1, 2, 3\n",
    "print(f\"Tuple without parentheses:      {x}\")\n",
    "\n",
    "# Retrieve items from a tuple using an index.\n",
    "first_item = x[0]\n",
    "print(f\"Retrieving items:               {first_item}\")\n",
    "\n",
    "# Tuples can be unpacked into multiple variables. If there is a mismatch in the number of variables and the number of items in the tuple, an error will be raised.\n",
    "a, b, c = x\n",
    "print(f\"Unpacking:                      {a}, {b}, {c}\")\n",
    "\n",
    "# Get the index of an item in a tuple\n",
    "idx = x.index(2)\n",
    "print(f\"Index of 2:                     {idx}\")\n",
    "\n",
    "# Count the number of times an item appears in a tuple\n",
    "count = x.count(2)\n",
    "print(f\"Count of 2:                     {count}\")"
   ],
   "id": "26bdf6e735dcfb8f",
   "outputs": [],
   "execution_count": null
  },
  {
   "metadata": {},
   "cell_type": "markdown",
   "source": "This is the last of the collections that I will cover in this chapter. This is by no means all of them (technically, even `str` is a collection) but these are the ones most commonly used. You now have a good basis of understanding any collections you will encounter in the future and understand how to manipulate them. Often they are similar to any of these types, and the same functions work on them.",
   "id": "3f2239480196ec36"
  },
  {
   "metadata": {},
   "cell_type": "markdown",
   "source": [
    "# Exercises\n",
    "For every result, please print it below the cell.\n",
    "\n",
    "## Lists\n",
    "\n",
    "Create a new list and add some items. Afterward, make a copy of the list, reverse it, and remove the first item in the reversed list. "
   ],
   "id": "5e3de0cc6b0bdf9c"
  },
  {
   "metadata": {},
   "cell_type": "code",
   "source": "",
   "id": "d83c5afb74a31a20",
   "outputs": [],
   "execution_count": null
  },
  {
   "metadata": {},
   "cell_type": "markdown",
   "source": [
    "## Dictionaries\n",
    "\n",
    "Create a new dictionary and add some key-value pairs. Remember which datatypes you can use as the key."
   ],
   "id": "8f8b1ce7ad4b3fdf"
  },
  {
   "metadata": {},
   "cell_type": "markdown",
   "source": [
    "## Sets\n",
    "\n",
    "Using sets, remove the duplicates from the list below."
   ],
   "id": "4a4c908af31aa286"
  },
  {
   "metadata": {},
   "cell_type": "code",
   "source": "my_list_with_duplicates = [6,12,5,12,6,8,1,4,8,2,3]",
   "id": "db411dc838599fbe",
   "outputs": [],
   "execution_count": null
  },
  {
   "metadata": {},
   "cell_type": "markdown",
   "source": [
    "## Tuples\n",
    "\n",
    "Create a new dictionary using tuples as the key.\n",
    "\n"
   ],
   "id": "bee0f7b1d46dec81"
  },
  {
   "metadata": {},
   "cell_type": "code",
   "source": "",
   "id": "467ce443d4c59e33",
   "outputs": [],
   "execution_count": null
  }
 ],
 "metadata": {
  "kernelspec": {
   "display_name": "Python 3 (ipykernel)",
   "language": "python",
   "name": "python3"
  },
  "language_info": {
   "codemirror_mode": {
    "name": "ipython",
    "version": 3
   },
   "file_extension": ".py",
   "mimetype": "text/x-python",
   "name": "python",
   "nbconvert_exporter": "python",
   "pygments_lexer": "ipython3",
   "version": "3.10.14"
  }
 },
 "nbformat": 4,
 "nbformat_minor": 5
}
