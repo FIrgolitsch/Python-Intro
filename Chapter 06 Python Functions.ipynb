{
 "cells": [
  {
   "metadata": {},
   "cell_type": "markdown",
   "source": [
    "# Python Functions\n",
    "\n",
    "In the previous chapter we discussed python flow control structures, and gave a comprehensive overview of the different types of loops and conditional statements. There is one more control structure that was deliberately left out as it deserves its own chapter. This is the function. Functions are blocks of code that can be reused multiple times throughout programs. They are essential for writing clean, modular, and efficient code. \n",
    "\n",
    "In this chapter, we will discuss how to create functions and how to use them in your programs. Let's get started with a simple example."
   ],
   "id": "cf3072c86897bebb"
  },
  {
   "metadata": {},
   "cell_type": "code",
   "source": [
    "# Functions are created with the 'def' keyword\n",
    "def hello():\n",
    "    print('Hello, World!')"
   ],
   "id": "ea5a44cf66fc007c",
   "outputs": [],
   "execution_count": null
  },
  {
   "metadata": {},
   "cell_type": "markdown",
   "source": "We have now defined a new function called `hello`. All this function does is print the string 'Hello, World!'. You might have noticed however, that nothing was printed after you ran the previous cell. This is because we have only defined the function. For the code in the function to be used we actually need to call the function. We do this by writing the name of the function followed by parentheses.",
   "id": "4a05af0ff7605b92"
  },
  {
   "metadata": {},
   "cell_type": "code",
   "source": [
    "hello()\n",
    "# We can call the function multiple times\n",
    "hello()\n",
    "hello()"
   ],
   "id": "d92bf07d208c7c35",
   "outputs": [],
   "execution_count": null
  },
  {
   "metadata": {},
   "cell_type": "markdown",
   "source": [
    "As you can see, we have now called the function and 'Hello, World' was printed. You can also see straight away that we can call the function multiple times, and the code inside the function will be executed each time. This saves us writing a lot of code, as we only have to write `hello()` instead of the full `print('Hello, World!')` each time we want to print 'Hello, World!'. In this case, the function is very simple and only contains one line of code. However, functions often become much more complex. Another advantage is that if we want to change the message that is printed, we only have to change it in the function definition, instead of changing it in multiple places in the code. Try it with the cells above if you'd like!\n",
    "\n",
    "## Function Arguments\n",
    "\n",
    "Just having a function that does something predefined is nice, but it's often not what you want to do. For example, you might want to define the message you want to send beforehand. This is where function arguments come in. Arguments are values that you pass to the function an are used within the scope of the function, that is within the specific code block of the function. Here is an example:"
   ],
   "id": "1fd7b2f75584d14c"
  },
  {
   "metadata": {},
   "cell_type": "code",
   "source": [
    "def greet(name):\n",
    "    print(f'Hello, {name}!')"
   ],
   "id": "233ab4f6040ef8ae",
   "outputs": [],
   "execution_count": null
  },
  {
   "metadata": {},
   "cell_type": "markdown",
   "source": "We have now defined a function called `greet` which takes a name as an argument. We then use that name to modify the string that is printed to the console. Let's now look at how we would call this function.",
   "id": "ac6a846a1f89b31f"
  },
  {
   "metadata": {},
   "cell_type": "code",
   "source": [
    "greet('Alice')\n",
    "\n",
    "person_name = 'Bob'\n",
    "\n",
    "greet(person_name)"
   ],
   "id": "9439111e44632b1b",
   "outputs": [],
   "execution_count": null
  },
  {
   "metadata": {},
   "cell_type": "markdown",
   "source": "You can now see that the arguments that we give to the function get used to modify te string and print the custom message. We can also use variable to store the value that will be passed on to the function. This is useful when you want to use the same value multiple times, or when the value is calculated in some way. Note that the variable for the name is called `person_name`. As good practice you never want to use the same name as the arguments of the function, as this can lead to confusion. The argument name of the function also does not persist outside of the function:",
   "id": "79d1776d2a37c61b"
  },
  {
   "metadata": {},
   "cell_type": "code",
   "source": [
    "# This will raise a NameError as name has not been defined outside the function.\n",
    "print(name)"
   ],
   "id": "be0557fabb820f03",
   "outputs": [],
   "execution_count": null
  },
  {
   "metadata": {},
   "cell_type": "markdown",
   "source": "You might now ask yourself: But what if I want the value inside a function to be used outside the function? This is where we use the return keyword. This keyword is used to return a value from a function. Here is an example:",
   "id": "e4f026bb409b09e2"
  },
  {
   "metadata": {},
   "cell_type": "code",
   "source": [
    "def is_even(number):\n",
    "    return number % 2 == 0\n",
    "\n",
    "\n",
    "is_two_even = is_even(2)\n",
    "print(is_two_even)"
   ],
   "id": "bfe332627247d2a6",
   "outputs": [],
   "execution_count": null
  },
  {
   "metadata": {},
   "cell_type": "markdown",
   "source": "We now have defined is even as a function, and used it to check if two is even. This is ofcourse the case, so the function returns the boolean `True`. The result of the function is then stored in a variable and printed. An important property of the return keyword is that all execution of the function is stopped after. That means that if there is code in the lines below the return statement, it won't be executed. Here is an example using the previous `is_even(..)` function.",
   "id": "f92d9b966215113b"
  },
  {
   "metadata": {},
   "cell_type": "code",
   "source": [
    "def print_is_even(number):\n",
    "    if is_even(number):\n",
    "        print(f'{number} is even')\n",
    "        return\n",
    "    print(f'{number} is odd')\n",
    "\n",
    "\n",
    "print_is_even(2)\n",
    "print_is_even(3)"
   ],
   "id": "1aaba85dfc8b1588",
   "outputs": [],
   "execution_count": null
  },
  {
   "metadata": {},
   "cell_type": "markdown",
   "source": [
    "You can see that the second print statement is not executed when the number is even, and the return keyword is reached. You can try out the effects of the return keyword by commenting out the return statement and running the cell again. You will now see that it will print '2 is odd' as well. You might noticed as well that we reused the `is_even(..)` function that we defined before. This is a great example of how functions can be reused to make code more modular and easier to read and demonstrates we can use functions inside other functions. \n",
    "\n",
    "## Default Arguments\n",
    "\n",
    "Sometimes you have an argument to a function that is used most of the time, but sometimes it just needs a different value. This is where default arguments come in. You can specify a default argument in the definition of the function by assign the value to the argument. Here is an example:"
   ],
   "id": "8d1f3278ae407df8"
  },
  {
   "metadata": {},
   "cell_type": "code",
   "source": [
    "def greet(name='World'):\n",
    "    print(f'Hello, {name}!')\n",
    "\n",
    "\n",
    "greet()\n",
    "greet('Alice')"
   ],
   "id": "33f5771bacaf20e7",
   "outputs": [],
   "execution_count": null
  },
  {
   "metadata": {},
   "cell_type": "markdown",
   "source": [
    "You can see that we now have a default value for the `name` argument, 'World'. This means that if we do not specify the name we want to use, it will just use 'world' instead. This also means that if you forget to give a parameter to the function, it will not give an error as it already has a value for the name argument. You can also see that we can still overwrite the default value by giving a value to the argument.\n",
    "\n",
    "## Variables and Functions\n",
    "\n",
    "Variables that are defined outside a function are called global variables. These variables can be accessed from anywhere in the code. For example, if we define a variable before the function definition, we can use it inside the function. Here is an example:"
   ],
   "id": "82ac0b5f0c28d176"
  },
  {
   "metadata": {},
   "cell_type": "code",
   "source": [
    "name = 'Alice'\n",
    "\n",
    "\n",
    "def greet():\n",
    "    print(f'Hello, {name}!')\n",
    "\n",
    "\n",
    "greet()"
   ],
   "id": "7fd6224f1fcc8eaa",
   "outputs": [],
   "execution_count": null
  },
  {
   "metadata": {},
   "cell_type": "markdown",
   "source": "It is also possible to modify this value inside the function using the global keyword. This allows for the use of variables that are defined outside the function inside the function. Changes to this variable will also be reflected outside the scope of the funcction. Here is an example:",
   "id": "b1f5419697159e30"
  },
  {
   "metadata": {},
   "cell_type": "code",
   "source": [
    "name = 'Alice'\n",
    "\n",
    "\n",
    "def greet():\n",
    "    global name\n",
    "    name = 'Bob'\n",
    "    print(f'Hello, {name}!')\n",
    "\n",
    "\n",
    "greet()\n",
    "print(name)"
   ],
   "id": "ae1886b9263c4435",
   "outputs": [],
   "execution_count": null
  },
  {
   "metadata": {},
   "cell_type": "markdown",
   "source": "This way of using variables in combination with functions is, however, very discouraged as it can easily lead to confusion about why variables are modified and where. It is better to pass the variable to a function using an argument, and if you want to record the modification of the variable, use the return keyword. I have shown this example here as a demonstration of what not to do. There are use cases for the global keyword, but there are few and far between and should be avoided if possible. An equivilant way of writing the previous example is:",
   "id": "4a56f6c9ef4bf08b"
  },
  {
   "metadata": {},
   "cell_type": "code",
   "source": [
    "name = 'Alice'\n",
    "\n",
    "\n",
    "def greet(name):\n",
    "    name = 'Bob'\n",
    "    print(f'Hello, {name}!')\n",
    "    return name\n",
    "\n",
    "\n",
    "name = greet(name)\n",
    "print(name)"
   ],
   "id": "d477f7457ecfc921",
   "outputs": [],
   "execution_count": null
  },
  {
   "metadata": {},
   "cell_type": "markdown",
   "source": [
    "This example immediately highlights the problem with this way of doing things. The name argument is not used at all inside of this function as its value is immediately overwritten and the name Bob will always be the result of this function. This is why it is better to use the return keyword and pass the variable as an argument.\n",
    "\n",
    "### Mutable Variables\n",
    "Mutable variables behave slightly differently than immutable variables when passed to a function. Any changes made to these variables will persist outside the function. Here is an example:"
   ],
   "id": "3450ac268c67832f"
  },
  {
   "metadata": {},
   "cell_type": "code",
   "source": [
    "x = []\n",
    "print(f\"x before function:      {x}\")\n",
    "\n",
    "\n",
    "def add_element(array):\n",
    "    array.append(1)\n",
    "\n",
    "\n",
    "def remove_element(array):\n",
    "    array.pop()\n",
    "\n",
    "\n",
    "add_element(x)\n",
    "print(f\"x after add_element:    {x}\")\n",
    "remove_element(x)\n",
    "print(f\"x after remove_element: {x}\")\n"
   ],
   "id": "83295a581e69da22",
   "outputs": [],
   "execution_count": null
  },
  {
   "metadata": {},
   "cell_type": "markdown",
   "source": "As you can see, the list `x` is modified inside the function by passing it as an argument. The changes are not local to the function, however, and will persist outside the function as well. Any mutable object created outside a function and modified inside of one will persist outside the function.",
   "id": "eb6a5352ea34ac3e"
  },
  {
   "metadata": {},
   "cell_type": "markdown",
   "source": [
    "## Multiple Arguments\n",
    "\n",
    "A function can have multiple arguments. These arguments are separated by commas. Here is an example:"
   ],
   "id": "e7e6bf96a76a850d"
  },
  {
   "metadata": {},
   "cell_type": "code",
   "source": [
    "def greet(first_name, last_name):\n",
    "    print(f'Hello, {first_name} {last_name}!')\n",
    "\n",
    "\n",
    "greet('Alice', 'Smith')"
   ],
   "id": "9945ac5be111f01d",
   "outputs": [],
   "execution_count": null
  },
  {
   "metadata": {},
   "cell_type": "markdown",
   "source": "We now can give two arguments to the function. However, the order of the arguments is important. If we write the last name first, we get reversed results:",
   "id": "421a6aa98a85180b"
  },
  {
   "metadata": {},
   "cell_type": "code",
   "source": "greet('Smith', 'Alice')",
   "id": "e279bc751967196e",
   "outputs": [],
   "execution_count": null
  },
  {
   "metadata": {},
   "cell_type": "markdown",
   "source": "This is called positional arguments. The order of the arguments is important. If we want to use the arguments in a different order, we can use keyword arguments. This means that we specify the name of the argument we want to give a value to. Here is an example:",
   "id": "f006319a7c0b7c2d"
  },
  {
   "metadata": {},
   "cell_type": "code",
   "source": "greet(last_name='Smith', first_name='Alice')",
   "id": "2aa68ba438387992",
   "outputs": [],
   "execution_count": null
  },
  {
   "metadata": {},
   "cell_type": "markdown",
   "source": "You can see that the function now works correctly, even though the order is not the same as in the function definition. Keyword arguments aid the readability of the code, as we can see exactly which value is assigned to the arguments. With long function definitions however, this can also become a bit messy as there is a lot of text. There are no real rules for what to use, and it mostly comes down to preference and what is suitable for the situation. Finally, let's have a look at combining default arguments and keyword arguments:",
   "id": "d4a793067434c381"
  },
  {
   "metadata": {},
   "cell_type": "code",
   "source": [
    "def greet(first_name, last_name='Smith'):\n",
    "    print(f'Hello, {first_name} {last_name}!')\n",
    "\n",
    "\n",
    "greet('Alice')\n",
    "greet('Alice', 'Johnson')"
   ],
   "id": "c52601cebda1dc96",
   "outputs": [],
   "execution_count": null
  },
  {
   "metadata": {},
   "cell_type": "markdown",
   "source": "You can see that we can now use the function with only one argument, and the last name will be 'Smith'. If we want to specify the last name, we can do so by using a keyword argument. The default arguments always are the last ones to be defined, this is mandatory in Python.",
   "id": "1e01f0d721bbb177"
  },
  {
   "metadata": {},
   "cell_type": "code",
   "source": [
    "def greet(first_name='Alice', last_name):\n",
    "    print(f'Hello, {first_name} {last_name}!')"
   ],
   "id": "4bc329e30da5892d",
   "outputs": [],
   "execution_count": null
  },
  {
   "metadata": {},
   "cell_type": "markdown",
   "source": "This will raise a syntax error as the default argument is not the last argument. You can try to fix this by moving the default argument to the end of the function definition. To test, you can add the function call to the bottom of the cell.",
   "id": "fd64d3cf7ee7ff65"
  },
  {
   "metadata": {},
   "cell_type": "markdown",
   "source": [
    "## Lambda Functions\n",
    "\n",
    "Lambda functions are a special kind of functions which are 'anonymous' meaning that they do not have a name like you would put after the `def` keyword. As such, you do not define them using the `def` keyword. You use the `lambda` keyword instead. Lambda functions are often used for small, simple functions that are only used once, or when applied to a list of values. Here is an example:"
   ],
   "id": "1d1562b6f0f91e1e"
  },
  {
   "metadata": {},
   "cell_type": "code",
   "source": [
    "x = list(range(1, 11))\n",
    "\n",
    "is_even = lambda i: i % 2 == 0  # This is the labmda function, it is assigned to the variable is_even\n",
    "print(is_even(2))  # We can just use it as a regular function, even though it is a variable.\n",
    "\n",
    "even_numbers = list(filter(is_even, x))  # We can use the lambda function in the filter function\n",
    "print(even_numbers)\n",
    "\n",
    "even_numbers = [i for i in x if is_even(i)]\n",
    "# We can also use it in a list comprehension. This also applies to regular functions, if the return value is a boolean.\n",
    "print(even_numbers)"
   ],
   "id": "d06199e4ca026f81",
   "outputs": [],
   "execution_count": null
  },
  {
   "metadata": {},
   "cell_type": "markdown",
   "source": [
    "## Functions as Variables or Arguments\n",
    "\n",
    "Just like labmda functions, regular functions can also be assigned to variables and even be passed to other functions as an argument. This often happens when the function to use is not known ahead of time and is determined at runtime. Here is an example:"
   ],
   "id": "c05558d07b4cbff3"
  },
  {
   "metadata": {},
   "cell_type": "code",
   "source": [
    "def run_function(func, value):\n",
    "    return func(value)\n",
    "\n",
    "def is_even(number):\n",
    "    return number % 2 == 0\n",
    "\n",
    "print(run_function(is_even, 2)) # Note the missing parentheses when passing the function as an argument"
   ],
   "id": "7183ba847a39cf09",
   "outputs": [],
   "execution_count": null
  },
  {
   "metadata": {},
   "cell_type": "markdown",
   "source": [
    "## Type Hinting\n",
    "\n",
    "Type hinting is way to give other people (or you in the future) and idea what the argument of a function should be. This aids in readability and understanding of the code. It is not mandatory, but it is good practice to use it. Here is an example:"
   ],
   "id": "5fbefab9983865ab"
  },
  {
   "metadata": {},
   "cell_type": "code",
   "source": [
    "def very_complex_function(a: int, b: float) -> str:\n",
    "    return str(a + b)"
   ],
   "id": "434ed8177116440b",
   "outputs": [],
   "execution_count": null
  },
  {
   "metadata": {},
   "cell_type": "markdown",
   "source": "The types are given after the colon (`:`) after the argument name and before the arrow (`->`). In this case it means that the argument `a` is supposed to be an `int`, `b` is supposed to be a float and the function returns a string, indicated by the arrow. Many advanced code editors (such as Pycharm) will give a warning when you try to use types that do not match the expected type of the function.",
   "id": "56935a507c268a59"
  },
  {
   "metadata": {},
   "cell_type": "markdown",
   "source": [
    "## Docstrings\n",
    "\n",
    "Docstrings is the term used for more verbose documentation of functions. They are used to describe what the function does, what the arguments are and what type they should be. With advanced tooling they can even be used to automatically generate documentation. They are defined by putting a multiling string `\"\"\"` after the function definition. Here is an example:"
   ],
   "id": "984afdd148291574"
  },
  {
   "metadata": {},
   "cell_type": "code",
   "source": [
    "def very_complex_function(a: int, b: float) -> str:\n",
    "    \"\"\"\n",
    "    This functions adds an integer and a float together and returns the result as a string.\n",
    "    \n",
    "    :param a: The integer to add to b\n",
    "    :type a: int\n",
    "    :param b: The float to add to a\n",
    "    :type b: float\n",
    "    :returns: The sum of a and b as a string\n",
    "    :rtype: str\n",
    "    \"\"\"\n",
    "    return str(a + b)"
   ],
   "id": "699747d559698be7",
   "outputs": [],
   "execution_count": null
  },
  {
   "metadata": {},
   "cell_type": "markdown",
   "source": [
    "# Exercises\n",
    "\n",
    "Beside writing the functions, please demonstrate their function as well by calling them and printing the result.\n",
    "\n",
    "## Functions\n",
    "Define a new Python function that takes two arguments and performs a mathematical expression on them."
   ],
   "id": "d9e55933aa114870"
  },
  {
   "metadata": {},
   "cell_type": "code",
   "source": "",
   "id": "506a9bfcc15a1155",
   "outputs": [],
   "execution_count": null
  },
  {
   "metadata": {},
   "cell_type": "markdown",
   "source": "Redefine the function from the previous exercise so that it uses default arguments. It should be able to run without any arguments. The results of the input variables should still be reflected.",
   "id": "add0f8c5b74d58b5"
  },
  {
   "metadata": {},
   "cell_type": "code",
   "source": "",
   "id": "616a911aff00de39",
   "outputs": [],
   "execution_count": null
  },
  {
   "metadata": {},
   "cell_type": "markdown",
   "source": "Make a function that updates a mutable variable. The function should modify the variable but not have a return function.",
   "id": "824231781fec11ba"
  },
  {
   "metadata": {},
   "cell_type": "code",
   "source": "",
   "id": "a7d7c5f81c333671",
   "outputs": [],
   "execution_count": null
  },
  {
   "metadata": {},
   "cell_type": "markdown",
   "source": "Please write a simple lambda function. Use this function inside a list comprehension to modify a list of values.",
   "id": "555a66fea27fc2b6"
  },
  {
   "metadata": {},
   "cell_type": "code",
   "source": "",
   "id": "ea41750e4c51a2a4",
   "outputs": [],
   "execution_count": null
  },
  {
   "metadata": {},
   "cell_type": "markdown",
   "source": "Take one of your previously defined functions and fully document it using docstrings and type hinting. (If you've already done so, feel free to skip this one. Nice job!)",
   "id": "6b6a03cf86939aef"
  },
  {
   "metadata": {},
   "cell_type": "code",
   "source": "",
   "id": "2346da67c8fa41e9",
   "outputs": [],
   "execution_count": null
  }
 ],
 "metadata": {
  "kernelspec": {
   "display_name": "Python 3",
   "language": "python",
   "name": "python3"
  },
  "language_info": {
   "codemirror_mode": {
    "name": "ipython",
    "version": 2
   },
   "file_extension": ".py",
   "mimetype": "text/x-python",
   "name": "python",
   "nbconvert_exporter": "python",
   "pygments_lexer": "ipython2",
   "version": "2.7.6"
  }
 },
 "nbformat": 4,
 "nbformat_minor": 5
}
